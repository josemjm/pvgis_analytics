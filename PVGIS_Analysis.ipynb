{
 "cells": [
  {
   "cell_type": "markdown",
   "metadata": {},
   "source": [
    "# PVGIS Global Irradiance Map"
   ]
  },
  {
   "cell_type": "markdown",
   "metadata": {},
   "source": [
    "#### Import Project Scripts"
   ]
  },
  {
   "cell_type": "code",
   "execution_count": 1,
   "metadata": {},
   "outputs": [],
   "source": [
    "from scripts.create_lat_lon import create_gdf\n",
    "from scripts.utils.geoprocessing_utils import square_grid\n",
    "from scripts.utils.geodata_download import create_gisco_gdf\n",
    "from scripts.utils.plot_points_and_polygons import plot_points_and_ine_municipalities, plot_points_and_countries"
   ]
  },
  {
   "cell_type": "markdown",
   "metadata": {},
   "source": [
    "#### Import libraries"
   ]
  },
  {
   "cell_type": "code",
   "execution_count": 2,
   "metadata": {},
   "outputs": [],
   "source": [
    "import os\n",
    "import folium\n",
    "import geopandas as gpd\n",
    "from matplotlib import pyplot as plt"
   ]
  },
  {
   "cell_type": "markdown",
   "metadata": {},
   "source": [
    "#### Localhost DB Connection"
   ]
  },
  {
   "cell_type": "code",
   "execution_count": 3,
   "metadata": {},
   "outputs": [],
   "source": [
    "from scripts.db_clickhouse.clickhouse_management import conn_clickhouse\n",
    "client = conn_clickhouse()"
   ]
  },
  {
   "cell_type": "markdown",
   "metadata": {},
   "source": [
    "#### Set preferences"
   ]
  },
  {
   "cell_type": "code",
   "execution_count": 4,
   "metadata": {},
   "outputs": [],
   "source": [
    "xmin = -3.8\n",
    "ymin = 40.3\n",
    "xmax = -3.5\n",
    "ymax = 40.6\n",
    "\n",
    "srid = 4326"
   ]
  },
  {
   "cell_type": "markdown",
   "metadata": {},
   "source": [
    "#### Create a grid of points by bounding box"
   ]
  },
  {
   "cell_type": "code",
   "execution_count": 5,
   "metadata": {},
   "outputs": [
    {
     "data": {
      "text/html": [
       "<div>\n",
       "<style scoped>\n",
       "    .dataframe tbody tr th:only-of-type {\n",
       "        vertical-align: middle;\n",
       "    }\n",
       "\n",
       "    .dataframe tbody tr th {\n",
       "        vertical-align: top;\n",
       "    }\n",
       "\n",
       "    .dataframe thead th {\n",
       "        text-align: right;\n",
       "    }\n",
       "</style>\n",
       "<table border=\"1\" class=\"dataframe\">\n",
       "  <thead>\n",
       "    <tr style=\"text-align: right;\">\n",
       "      <th></th>\n",
       "      <th>lat</th>\n",
       "      <th>lon</th>\n",
       "      <th>geometry</th>\n",
       "    </tr>\n",
       "  </thead>\n",
       "  <tbody>\n",
       "    <tr>\n",
       "      <th>0</th>\n",
       "      <td>40.29</td>\n",
       "      <td>-3.80</td>\n",
       "      <td>POINT (-3.80000 40.29000)</td>\n",
       "    </tr>\n",
       "    <tr>\n",
       "      <th>1</th>\n",
       "      <td>40.29</td>\n",
       "      <td>-3.75</td>\n",
       "      <td>POINT (-3.75000 40.29000)</td>\n",
       "    </tr>\n",
       "    <tr>\n",
       "      <th>2</th>\n",
       "      <td>40.29</td>\n",
       "      <td>-3.70</td>\n",
       "      <td>POINT (-3.70000 40.29000)</td>\n",
       "    </tr>\n",
       "    <tr>\n",
       "      <th>3</th>\n",
       "      <td>40.29</td>\n",
       "      <td>-3.65</td>\n",
       "      <td>POINT (-3.65000 40.29000)</td>\n",
       "    </tr>\n",
       "    <tr>\n",
       "      <th>4</th>\n",
       "      <td>40.29</td>\n",
       "      <td>-3.60</td>\n",
       "      <td>POINT (-3.60000 40.29000)</td>\n",
       "    </tr>\n",
       "  </tbody>\n",
       "</table>\n",
       "</div>"
      ],
      "text/plain": [
       "     lat   lon                   geometry\n",
       "0  40.29 -3.80  POINT (-3.80000 40.29000)\n",
       "1  40.29 -3.75  POINT (-3.75000 40.29000)\n",
       "2  40.29 -3.70  POINT (-3.70000 40.29000)\n",
       "3  40.29 -3.65  POINT (-3.65000 40.29000)\n",
       "4  40.29 -3.60  POINT (-3.60000 40.29000)"
      ]
     },
     "execution_count": 5,
     "metadata": {},
     "output_type": "execute_result"
    }
   ],
   "source": [
    "points_gdf = create_gdf(xmin, ymin, xmax, ymax, srid)\n",
    "points_gdf.head()"
   ]
  },
  {
   "cell_type": "markdown",
   "metadata": {},
   "source": [
    "#### Create a square grid with side and point center"
   ]
  },
  {
   "cell_type": "code",
   "execution_count": 6,
   "metadata": {},
   "outputs": [
    {
     "data": {
      "text/html": [
       "<div>\n",
       "<style scoped>\n",
       "    .dataframe tbody tr th:only-of-type {\n",
       "        vertical-align: middle;\n",
       "    }\n",
       "\n",
       "    .dataframe tbody tr th {\n",
       "        vertical-align: top;\n",
       "    }\n",
       "\n",
       "    .dataframe thead th {\n",
       "        text-align: right;\n",
       "    }\n",
       "</style>\n",
       "<table border=\"1\" class=\"dataframe\">\n",
       "  <thead>\n",
       "    <tr style=\"text-align: right;\">\n",
       "      <th></th>\n",
       "      <th>lat</th>\n",
       "      <th>lon</th>\n",
       "      <th>geometry</th>\n",
       "    </tr>\n",
       "  </thead>\n",
       "  <tbody>\n",
       "    <tr>\n",
       "      <th>0</th>\n",
       "      <td>40.29</td>\n",
       "      <td>-3.80</td>\n",
       "      <td>POLYGON ((-3.77500 40.26500, -3.77500 40.31500...</td>\n",
       "    </tr>\n",
       "    <tr>\n",
       "      <th>1</th>\n",
       "      <td>40.29</td>\n",
       "      <td>-3.75</td>\n",
       "      <td>POLYGON ((-3.72500 40.26500, -3.72500 40.31500...</td>\n",
       "    </tr>\n",
       "    <tr>\n",
       "      <th>2</th>\n",
       "      <td>40.29</td>\n",
       "      <td>-3.70</td>\n",
       "      <td>POLYGON ((-3.67500 40.26500, -3.67500 40.31500...</td>\n",
       "    </tr>\n",
       "    <tr>\n",
       "      <th>3</th>\n",
       "      <td>40.29</td>\n",
       "      <td>-3.65</td>\n",
       "      <td>POLYGON ((-3.62500 40.26500, -3.62500 40.31500...</td>\n",
       "    </tr>\n",
       "    <tr>\n",
       "      <th>4</th>\n",
       "      <td>40.29</td>\n",
       "      <td>-3.60</td>\n",
       "      <td>POLYGON ((-3.57500 40.26500, -3.57500 40.31500...</td>\n",
       "    </tr>\n",
       "  </tbody>\n",
       "</table>\n",
       "</div>"
      ],
      "text/plain": [
       "     lat   lon                                           geometry\n",
       "0  40.29 -3.80  POLYGON ((-3.77500 40.26500, -3.77500 40.31500...\n",
       "1  40.29 -3.75  POLYGON ((-3.72500 40.26500, -3.72500 40.31500...\n",
       "2  40.29 -3.70  POLYGON ((-3.67500 40.26500, -3.67500 40.31500...\n",
       "3  40.29 -3.65  POLYGON ((-3.62500 40.26500, -3.62500 40.31500...\n",
       "4  40.29 -3.60  POLYGON ((-3.57500 40.26500, -3.57500 40.31500..."
      ]
     },
     "execution_count": 6,
     "metadata": {},
     "output_type": "execute_result"
    }
   ],
   "source": [
    "grid_gdf = square_grid(points_gdf, 0.05)\n",
    "grid_gdf.head()"
   ]
  },
  {
   "cell_type": "markdown",
   "metadata": {},
   "source": [
    "#### Plot grid of points"
   ]
  },
  {
   "cell_type": "code",
   "execution_count": 7,
   "metadata": {},
   "outputs": [
    {
     "data": {
      "image/png": "[encoded data removed]",
      "text/plain": [
       "<Figure size 432x288 with 1 Axes>"
      ]
     },
     "metadata": {
      "needs_background": "light"
     },
     "output_type": "display_data"
    }
   ],
   "source": [
    "f, ax = plt.subplots(1)\n",
    "grid_gdf.plot(ax=ax, color='white', edgecolor='black')\n",
    "points_gdf.plot(ax=ax, color='red')\n",
    "plt.show()"
   ]
  },
  {
   "cell_type": "markdown",
   "metadata": {},
   "source": [
    "#### Calculate Anual Global Irradiance "
   ]
  },
  {
   "cell_type": "code",
   "execution_count": 8,
   "metadata": {},
   "outputs": [
    {
     "data": {
      "text/html": [
       "<div>\n",
       "<style scoped>\n",
       "    .dataframe tbody tr th:only-of-type {\n",
       "        vertical-align: middle;\n",
       "    }\n",
       "\n",
       "    .dataframe tbody tr th {\n",
       "        vertical-align: top;\n",
       "    }\n",
       "\n",
       "    .dataframe thead th {\n",
       "        text-align: right;\n",
       "    }\n",
       "</style>\n",
       "<table border=\"1\" class=\"dataframe\">\n",
       "  <thead>\n",
       "    <tr style=\"text-align: right;\">\n",
       "      <th></th>\n",
       "      <th>latitude</th>\n",
       "      <th>longitude</th>\n",
       "      <th>date</th>\n",
       "      <th>golbal_irradiance</th>\n",
       "    </tr>\n",
       "  </thead>\n",
       "  <tbody>\n",
       "    <tr>\n",
       "      <th>0</th>\n",
       "      <td>40.44</td>\n",
       "      <td>-3.75</td>\n",
       "      <td>2016</td>\n",
       "      <td>1684567.97</td>\n",
       "    </tr>\n",
       "    <tr>\n",
       "      <th>1</th>\n",
       "      <td>40.39</td>\n",
       "      <td>-3.65</td>\n",
       "      <td>2016</td>\n",
       "      <td>1686839.95</td>\n",
       "    </tr>\n",
       "    <tr>\n",
       "      <th>2</th>\n",
       "      <td>40.44</td>\n",
       "      <td>-3.60</td>\n",
       "      <td>2016</td>\n",
       "      <td>1687809.85</td>\n",
       "    </tr>\n",
       "    <tr>\n",
       "      <th>3</th>\n",
       "      <td>40.44</td>\n",
       "      <td>-3.55</td>\n",
       "      <td>2016</td>\n",
       "      <td>1687803.65</td>\n",
       "    </tr>\n",
       "    <tr>\n",
       "      <th>4</th>\n",
       "      <td>40.59</td>\n",
       "      <td>-3.70</td>\n",
       "      <td>2016</td>\n",
       "      <td>1684514.35</td>\n",
       "    </tr>\n",
       "  </tbody>\n",
       "</table>\n",
       "</div>"
      ],
      "text/plain": [
       "   latitude  longitude  date  golbal_irradiance\n",
       "0     40.44      -3.75  2016         1684567.97\n",
       "1     40.39      -3.65  2016         1686839.95\n",
       "2     40.44      -3.60  2016         1687809.85\n",
       "3     40.44      -3.55  2016         1687803.65\n",
       "4     40.59      -3.70  2016         1684514.35"
      ]
     },
     "execution_count": 8,
     "metadata": {},
     "output_type": "execute_result"
    }
   ],
   "source": [
    "query = \" \\\n",
    "        SELECT latitude, longitude, toYear(time) AS date, SUM(global_irradiance) AS golbal_irradiance \\\n",
    "        FROM seriescalc WHERE toYear(time) = 2016 \\\n",
    "        GROUP BY latitude, longitude, toYear(time) \\\n",
    "        \"\n",
    "\n",
    "gi_2016_df = client.query_dataframe(query)\n",
    "\n",
    "gi_2016_df.head()"
   ]
  },
  {
   "cell_type": "markdown",
   "metadata": {},
   "source": [
    "#### Merge Polygons and GIobal Irradiance by latitude and longitude"
   ]
  },
  {
   "cell_type": "code",
   "execution_count": 9,
   "metadata": {},
   "outputs": [
    {
     "data": {
      "text/html": [
       "<div>\n",
       "<style scoped>\n",
       "    .dataframe tbody tr th:only-of-type {\n",
       "        vertical-align: middle;\n",
       "    }\n",
       "\n",
       "    .dataframe tbody tr th {\n",
       "        vertical-align: top;\n",
       "    }\n",
       "\n",
       "    .dataframe thead th {\n",
       "        text-align: right;\n",
       "    }\n",
       "</style>\n",
       "<table border=\"1\" class=\"dataframe\">\n",
       "  <thead>\n",
       "    <tr style=\"text-align: right;\">\n",
       "      <th></th>\n",
       "      <th>geometry</th>\n",
       "      <th>latitude</th>\n",
       "      <th>longitude</th>\n",
       "      <th>date</th>\n",
       "      <th>golbal_irradiance</th>\n",
       "    </tr>\n",
       "  </thead>\n",
       "  <tbody>\n",
       "    <tr>\n",
       "      <th>0</th>\n",
       "      <td>POLYGON ((-3.77500 40.26500, -3.77500 40.31500...</td>\n",
       "      <td>40.29</td>\n",
       "      <td>-3.80</td>\n",
       "      <td>2016</td>\n",
       "      <td>1665134.17</td>\n",
       "    </tr>\n",
       "    <tr>\n",
       "      <th>1</th>\n",
       "      <td>POLYGON ((-3.72500 40.26500, -3.72500 40.31500...</td>\n",
       "      <td>40.29</td>\n",
       "      <td>-3.75</td>\n",
       "      <td>2016</td>\n",
       "      <td>1665123.24</td>\n",
       "    </tr>\n",
       "    <tr>\n",
       "      <th>2</th>\n",
       "      <td>POLYGON ((-3.67500 40.26500, -3.67500 40.31500...</td>\n",
       "      <td>40.29</td>\n",
       "      <td>-3.70</td>\n",
       "      <td>2016</td>\n",
       "      <td>1665121.51</td>\n",
       "    </tr>\n",
       "    <tr>\n",
       "      <th>3</th>\n",
       "      <td>POLYGON ((-3.62500 40.26500, -3.62500 40.31500...</td>\n",
       "      <td>40.29</td>\n",
       "      <td>-3.65</td>\n",
       "      <td>2016</td>\n",
       "      <td>1655846.20</td>\n",
       "    </tr>\n",
       "    <tr>\n",
       "      <th>4</th>\n",
       "      <td>POLYGON ((-3.57500 40.26500, -3.57500 40.31500...</td>\n",
       "      <td>40.29</td>\n",
       "      <td>-3.60</td>\n",
       "      <td>2016</td>\n",
       "      <td>1650151.73</td>\n",
       "    </tr>\n",
       "  </tbody>\n",
       "</table>\n",
       "</div>"
      ],
      "text/plain": [
       "                                            geometry  latitude  longitude  \\\n",
       "0  POLYGON ((-3.77500 40.26500, -3.77500 40.31500...     40.29      -3.80   \n",
       "1  POLYGON ((-3.72500 40.26500, -3.72500 40.31500...     40.29      -3.75   \n",
       "2  POLYGON ((-3.67500 40.26500, -3.67500 40.31500...     40.29      -3.70   \n",
       "3  POLYGON ((-3.62500 40.26500, -3.62500 40.31500...     40.29      -3.65   \n",
       "4  POLYGON ((-3.57500 40.26500, -3.57500 40.31500...     40.29      -3.60   \n",
       "\n",
       "   date  golbal_irradiance  \n",
       "0  2016         1665134.17  \n",
       "1  2016         1665123.24  \n",
       "2  2016         1665121.51  \n",
       "3  2016         1655846.20  \n",
       "4  2016         1650151.73  "
      ]
     },
     "execution_count": 9,
     "metadata": {},
     "output_type": "execute_result"
    }
   ],
   "source": [
    "grid_gi_2016 = grid_gdf.merge(gi_2016_df, left_on=['lat','lon'], right_on=['latitude','longitude'])\n",
    "del grid_gi_2016['lat']\n",
    "del grid_gi_2016['lon']\n",
    "\n",
    "grid_gi_2016.head()"
   ]
  },
  {
   "cell_type": "markdown",
   "metadata": {},
   "source": [
    "#### Choropleth maps"
   ]
  },
  {
   "cell_type": "code",
   "execution_count": 11,
   "metadata": {},
   "outputs": [
    {
     "data": {
      "text/html": [
       "<div style=\"width:100%;\"><div style=\"position:relative;width:100%;height:0;padding-bottom:60%;\"><span style=\"color:#565656\">Make this Notebook Trusted to load map: File -> Trust Notebook</span><iframe src=\"about:blank\" style=\"position:absolute;width:100%;height:100%;left:0;top:0;border:none !important;\" data-html=%3C%21DOCTYPE%20html%3E%0A%3Chead%3E%20%20%20%20%0A%20%20%20%20%3Cmeta%20http-equiv%3D%22content-type%22%20content%3D%22text/html%3B%20charset%3DUTF-8%22%20/%3E%0A%20%20%20%20%0A%20%20%20%20%20%20%20%20%3Cscript%3E%0A%20%20%20%20%20%20%20%20%20%20%20%20L_NO_TOUCH%20%3D%20false%3B%0A%20%20%20%20%20%20%20%20%20%20%20%20L_DISABLE_3D%20%3D%20false%3B%0A%20%20%20%20%20%20%20%20%3C/script%3E%0A%20%20%20%20%0A%20%20%20%20%3Cstyle%3Ehtml%2C%20body%20%7Bwidth%3A%20100%25%3Bheight%3A%20100%25%3Bmargin%3A%200%3Bpadding%3A%200%3B%7D%3C/style%3E%0A%20%20%20%20%3Cstyle%3E%23map%20%7Bposition%3Aabsolute%3Btop%3A0%3Bbottom%3A0%3Bright%3A0%3Bleft%3A0%3B%7D%3C/style%3E%0A%20%20%20%20%3Cscript%20src%3D%22https%3A//cdn.jsdelivr.net/npm/leaflet%401.6.0/dist/leaflet.js%22%3E%3C/script%3E%0A%20%20%20%20%3Cscript%20src%3D%22https%3A//code.jquery.com/jquery-1.12.4.min.js%22%3E%3C/script%3E%0A%20%20%20%20%3Cscript%20src%3D%22https%3A//maxcdn.bootstrapcdn.com/bootstrap/3.2.0/js/bootstrap.min.js%22%3E%3C/script%3E%0A%20%20%20%20%3Cscript%20src%3D%22https%3A//cdnjs.cloudflare.com/ajax/libs/Leaflet.awesome-markers/2.0.2/leaflet.awesome-markers.js%22%3E%3C/script%3E%0A%20%20%20%20%3Clink%20rel%3D%22stylesheet%22%20href%3D%22https%3A//cdn.jsdelivr.net/npm/leaflet%401.6.0/dist/leaflet.css%22/%3E%0A%20%20%20%20%3Clink%20rel%3D%22stylesheet%22%20href%3D%22https%3A//maxcdn.bootstrapcdn.com/bootstrap/3.2.0/css/bootstrap.min.css%22/%3E%0A%20%20%20%20%3Clink%20rel%3D%22stylesheet%22%20href%3D%22https%3A//maxcdn.bootstrapcdn.com/bootstrap/3.2.0/css/bootstrap-theme.min.css%22/%3E%0A%20%20%20%20%3Clink%20rel%3D%22stylesheet%22%20href%3D%22https%3A//maxcdn.bootstrapcdn.com/font-awesome/4.6.3/css/font-awesome.min.css%22/%3E%0A%20%20%20%20%3Clink%20rel%3D%22stylesheet%22%20href%3D%22https%3A//cdnjs.cloudflare.com/ajax/libs/Leaflet.awesome-markers/2.0.2/leaflet.awesome-markers.css%22/%3E%0A%20%20%20%20%3Clink%20rel%3D%22stylesheet%22%20href%3D%22https%3A//cdn.jsdelivr.net/gh/python-visualization/folium/folium/templates/leaflet.awesome.rotate.min.css%22/%3E%0A%20%20%20%20%0A%20%20%20%20%20%20%20%20%20%20%20%20%3Cmeta%20name%3D%22viewport%22%20content%3D%22width%3Ddevice-width%2C%0A%20%20%20%20%20%20%20%20%20%20%20%20%20%20%20%20initial-scale%3D1.0%2C%20maximum-scale%3D1.0%2C%20user-scalable%3Dno%22%20/%3E%0A%20%20%20%20%20%20%20%20%20%20%20%20%3Cstyle%3E%0A%20%20%20%20%20%20%20%20%20%20%20%20%20%20%20%20%23map_6dfc4d87618642539b2b39e715f59688%20%7B%0A%20%20%20%20%20%20%20%20%20%20%20%20%20%20%20%20%20%20%20%20position%3A%20relative%3B%0A%20%20%20%20%20%20%20%20%20%20%20%20%20%20%20%20%20%20%20%20width%3A%20100.0%25%3B%0A%20%20%20%20%20%20%20%20%20%20%20%20%20%20%20%20%20%20%20%20height%3A%20100.0%25%3B%0A%20%20%20%20%20%20%20%20%20%20%20%20%20%20%20%20%20%20%20%20left%3A%200.0%25%3B%0A%20%20%20%20%20%20%20%20%20%20%20%20%20%20%20%20%20%20%20%20top%3A%200.0%25%3B%0A%20%20%20%20%20%20%20%20%20%20%20%20%20%20%20%20%7D%0A%20%20%20%20%20%20%20%20%20%20%20%20%3C/style%3E%0A%20%20%20%20%20%20%20%20%0A%20%20%20%20%3Cscript%20src%3D%22https%3A//cdnjs.cloudflare.com/ajax/libs/d3/3.5.5/d3.min.js%22%3E%3C/script%3E%0A%3C/head%3E%0A%3Cbody%3E%20%20%20%20%0A%20%20%20%20%0A%20%20%20%20%20%20%20%20%20%20%20%20%3Cdiv%20class%3D%22folium-map%22%20id%3D%22map_6dfc4d87618642539b2b39e715f59688%22%20%3E%3C/div%3E%0A%20%20%20%20%20%20%20%20%0A%3C/body%3E%0A%3Cscript%3E%20%20%20%20%0A%20%20%20%20%0A%20%20%20%20%20%20%20%20%20%20%20%20var%20map_6dfc4d87618642539b2b39e715f59688%20%3D%20L.map%28%0A%20%20%20%20%20%20%20%20%20%20%20%20%20%20%20%20%22map_6dfc4d87618642539b2b39e715f59688%22%2C%0A%20%20%20%20%20%20%20%20%20%20%20%20%20%20%20%20%7B%0A%20%20%20%20%20%20%20%20%20%20%20%20%20%20%20%20%20%20%20%20center%3A%20%5B40.45%2C%20-3.65%5D%2C%0A%20%20%20%20%20%20%20%20%20%20%20%20%20%20%20%20%20%20%20%20crs%3A%20L.CRS.EPSG3857%2C%0A%20%20%20%20%20%20%20%20%20%20%20%20%20%20%20%20%20%20%20%20zoom%3A%2010%2C%0A%20%20%20%20%20%20%20%20%20%20%20%20%20%20%20%20%20%20%20%20zoomControl%3A%20true%2C%0A%20%20%20%20%20%20%20%20%20%20%20%20%20%20%20%20%20%20%20%20preferCanvas%3A%20false%2C%0A%20%20%20%20%20%20%20%20%20%20%20%20%20%20%20%20%7D%0A%20%20%20%20%20%20%20%20%20%20%20%20%29%3B%0A%0A%20%20%20%20%20%20%20%20%20%20%20%20%0A%0A%20%20%20%20%20%20%20%20%0A%20%20%20%20%0A%20%20%20%20%20%20%20%20%20%20%20%20var%20tile_layer_cf0214944a4d48e1a5142781f852e8e7%20%3D%20L.tileLayer%28%0A%20%20%20%20%20%20%20%20%20%20%20%20%20%20%20%20%22https%3A//cartodb-basemaps-%7Bs%7D.global.ssl.fastly.net/light_all/%7Bz%7D/%7Bx%7D/%7By%7D.png%22%2C%0A%20%20%20%20%20%20%20%20%20%20%20%20%20%20%20%20%7B%22attribution%22%3A%20%22%5Cu0026copy%3B%20%5Cu003ca%20href%3D%5C%22http%3A//www.openstreetmap.org/copyright%5C%22%5Cu003eOpenStreetMap%5Cu003c/a%5Cu003e%20contributors%20%5Cu0026copy%3B%20%5Cu003ca%20href%3D%5C%22http%3A//cartodb.com/attributions%5C%22%5Cu003eCartoDB%5Cu003c/a%5Cu003e%2C%20CartoDB%20%5Cu003ca%20href%20%3D%5C%22http%3A//cartodb.com/attributions%5C%22%5Cu003eattributions%5Cu003c/a%5Cu003e%22%2C%20%22detectRetina%22%3A%20false%2C%20%22maxNativeZoom%22%3A%2018%2C%20%22maxZoom%22%3A%2018%2C%20%22minZoom%22%3A%200%2C%20%22noWrap%22%3A%20false%2C%20%22opacity%22%3A%201%2C%20%22subdomains%22%3A%20%22abc%22%2C%20%22tms%22%3A%20false%7D%0A%20%20%20%20%20%20%20%20%20%20%20%20%29.addTo%28map_6dfc4d87618642539b2b39e715f59688%29%3B%0A%20%20%20%20%20%20%20%20%0A%20%20%20%20%0A%20%20%20%20%20%20%20%20%20%20%20%20var%20choropleth_f95a5d7f07cb44489603d2d5d6a4d088%20%3D%20L.featureGroup%28%0A%20%20%20%20%20%20%20%20%20%20%20%20%20%20%20%20%7B%7D%0A%20%20%20%20%20%20%20%20%20%20%20%20%29.addTo%28map_6dfc4d87618642539b2b39e715f59688%29%3B%0A%20%20%20%20%20%20%20%20%0A%20%20%20%20%0A%20%20%20%20%20%20%20%20function%20geo_json_6f5fa7eed0bc4d038201087b68764242_styler%28feature%29%20%7B%0A%20%20%20%20%20%20%20%20%20%20%20%20switch%28feature.id%29%20%7B%0A%20%20%20%20%20%20%20%20%20%20%20%20%20%20%20%20case%20%220%22%3A%20case%20%221%22%3A%20case%20%222%22%3A%20case%20%226%22%3A%20case%20%227%22%3A%20case%20%228%22%3A%20case%20%2225%22%3A%20case%20%2226%22%3A%20case%20%2230%22%3A%20case%20%2231%22%3A%20%0A%20%20%20%20%20%20%20%20%20%20%20%20%20%20%20%20%20%20%20%20return%20%7B%22color%22%3A%20%22black%22%2C%20%22fillColor%22%3A%20%22%23fc8d59%22%2C%20%22fillOpacity%22%3A%200.7%2C%20%22opacity%22%3A%200.2%2C%20%22weight%22%3A%201%7D%3B%0A%20%20%20%20%20%20%20%20%20%20%20%20%20%20%20%20case%20%223%22%3A%20case%20%229%22%3A%20%0A%20%20%20%20%20%20%20%20%20%20%20%20%20%20%20%20%20%20%20%20return%20%7B%22color%22%3A%20%22black%22%2C%20%22fillColor%22%3A%20%22%23fdbb84%22%2C%20%22fillOpacity%22%3A%200.7%2C%20%22opacity%22%3A%200.2%2C%20%22weight%22%3A%201%7D%3B%0A%20%20%20%20%20%20%20%20%20%20%20%20%20%20%20%20case%20%224%22%3A%20case%20%2210%22%3A%20case%20%2211%22%3A%20%0A%20%20%20%20%20%20%20%20%20%20%20%20%20%20%20%20%20%20%20%20return%20%7B%22color%22%3A%20%22black%22%2C%20%22fillColor%22%3A%20%22%23fdd49e%22%2C%20%22fillOpacity%22%3A%200.7%2C%20%22opacity%22%3A%200.2%2C%20%22weight%22%3A%201%7D%3B%0A%20%20%20%20%20%20%20%20%20%20%20%20%20%20%20%20case%20%225%22%3A%20%0A%20%20%20%20%20%20%20%20%20%20%20%20%20%20%20%20%20%20%20%20return%20%7B%22color%22%3A%20%22black%22%2C%20%22fillColor%22%3A%20%22%23fef0d9%22%2C%20%22fillOpacity%22%3A%200.7%2C%20%22opacity%22%3A%200.2%2C%20%22weight%22%3A%201%7D%3B%0A%20%20%20%20%20%20%20%20%20%20%20%20%20%20%20%20case%20%2228%22%3A%20case%20%2229%22%3A%20case%20%2234%22%3A%20case%20%2235%22%3A%20case%20%2239%22%3A%20case%20%2240%22%3A%20case%20%2241%22%3A%20%0A%20%20%20%20%20%20%20%20%20%20%20%20%20%20%20%20%20%20%20%20return%20%7B%22color%22%3A%20%22black%22%2C%20%22fillColor%22%3A%20%22%23b30000%22%2C%20%22fillOpacity%22%3A%200.7%2C%20%22opacity%22%3A%200.2%2C%20%22weight%22%3A%201%7D%3B%0A%20%20%20%20%20%20%20%20%20%20%20%20%20%20%20%20default%3A%0A%20%20%20%20%20%20%20%20%20%20%20%20%20%20%20%20%20%20%20%20return%20%7B%22color%22%3A%20%22black%22%2C%20%22fillColor%22%3A%20%22%23e34a33%22%2C%20%22fillOpacity%22%3A%200.7%2C%20%22opacity%22%3A%200.2%2C%20%22weight%22%3A%201%7D%3B%0A%20%20%20%20%20%20%20%20%20%20%20%20%7D%0A%20%20%20%20%20%20%20%20%7D%0A%0A%20%20%20%20%20%20%20%20function%20geo_json_6f5fa7eed0bc4d038201087b68764242_onEachFeature%28feature%2C%20layer%29%20%7B%0A%20%20%20%20%20%20%20%20%20%20%20%20layer.on%28%7B%0A%20%20%20%20%20%20%20%20%20%20%20%20%7D%29%3B%0A%20%20%20%20%20%20%20%20%7D%3B%0A%20%20%20%20%20%20%20%20var%20geo_json_6f5fa7eed0bc4d038201087b68764242%20%3D%20L.geoJson%28null%2C%20%7B%0A%20%20%20%20%20%20%20%20%20%20%20%20%20%20%20%20onEachFeature%3A%20geo_json_6f5fa7eed0bc4d038201087b68764242_onEachFeature%2C%0A%20%20%20%20%20%20%20%20%20%20%20%20%0A%20%20%20%20%20%20%20%20%20%20%20%20%20%20%20%20style%3A%20geo_json_6f5fa7eed0bc4d038201087b68764242_styler%2C%0A%20%20%20%20%20%20%20%20%7D%29%3B%0A%0A%20%20%20%20%20%20%20%20function%20geo_json_6f5fa7eed0bc4d038201087b68764242_add%20%28data%29%20%7B%0A%20%20%20%20%20%20%20%20%20%20%20%20geo_json_6f5fa7eed0bc4d038201087b68764242%0A%20%20%20%20%20%20%20%20%20%20%20%20%20%20%20%20.addData%28data%29%0A%20%20%20%20%20%20%20%20%20%20%20%20%20%20%20%20.addTo%28choropleth_f95a5d7f07cb44489603d2d5d6a4d088%29%3B%0A%20%20%20%20%20%20%20%20%7D%0A%20%20%20%20%20%20%20%20%20%20%20%20geo_json_6f5fa7eed0bc4d038201087b68764242_add%28%7B%22features%22%3A%20%5B%7B%22geometry%22%3A%20%7B%22coordinates%22%3A%20%5B%5B%5B-3.775%2C%2040.265%5D%2C%20%5B-3.775%2C%2040.315%5D%2C%20%5B-3.8249999999999997%2C%2040.315%5D%2C%20%5B-3.8249999999999997%2C%2040.265%5D%2C%20%5B-3.775%2C%2040.265%5D%5D%5D%2C%20%22type%22%3A%20%22Polygon%22%7D%2C%20%22id%22%3A%20%220%22%2C%20%22properties%22%3A%20%7B%22date%22%3A%202016%2C%20%22golbal_irradiance%22%3A%201665134.1700000092%2C%20%22id%22%3A%201%2C%20%22latitude%22%3A%2040.29%2C%20%22longitude%22%3A%20-3.8%7D%2C%20%22type%22%3A%20%22Feature%22%7D%2C%20%7B%22geometry%22%3A%20%7B%22coordinates%22%3A%20%5B%5B%5B-3.725%2C%2040.265%5D%2C%20%5B-3.725%2C%2040.315%5D%2C%20%5B-3.775%2C%2040.315%5D%2C%20%5B-3.775%2C%2040.265%5D%2C%20%5B-3.725%2C%2040.265%5D%5D%5D%2C%20%22type%22%3A%20%22Polygon%22%7D%2C%20%22id%22%3A%20%221%22%2C%20%22properties%22%3A%20%7B%22date%22%3A%202016%2C%20%22golbal_irradiance%22%3A%201665123.2400000081%2C%20%22id%22%3A%202%2C%20%22latitude%22%3A%2040.29%2C%20%22longitude%22%3A%20-3.75%7D%2C%20%22type%22%3A%20%22Feature%22%7D%2C%20%7B%22geometry%22%3A%20%7B%22coordinates%22%3A%20%5B%5B%5B-3.6750000000000003%2C%2040.265%5D%2C%20%5B-3.6750000000000003%2C%2040.315%5D%2C%20%5B-3.725%2C%2040.315%5D%2C%20%5B-3.725%2C%2040.265%5D%2C%20%5B-3.6750000000000003%2C%2040.265%5D%5D%5D%2C%20%22type%22%3A%20%22Polygon%22%7D%2C%20%22id%22%3A%20%222%22%2C%20%22properties%22%3A%20%7B%22date%22%3A%202016%2C%20%22golbal_irradiance%22%3A%201665121.5100000082%2C%20%22id%22%3A%203%2C%20%22latitude%22%3A%2040.29%2C%20%22longitude%22%3A%20-3.7%7D%2C%20%22type%22%3A%20%22Feature%22%7D%2C%20%7B%22geometry%22%3A%20%7B%22coordinates%22%3A%20%5B%5B%5B-3.625%2C%2040.265%5D%2C%20%5B-3.625%2C%2040.315%5D%2C%20%5B-3.675%2C%2040.315%5D%2C%20%5B-3.675%2C%2040.265%5D%2C%20%5B-3.625%2C%2040.265%5D%5D%5D%2C%20%22type%22%3A%20%22Polygon%22%7D%2C%20%22id%22%3A%20%223%22%2C%20%22properties%22%3A%20%7B%22date%22%3A%202016%2C%20%22golbal_irradiance%22%3A%201655846.2000000072%2C%20%22id%22%3A%204%2C%20%22latitude%22%3A%2040.29%2C%20%22longitude%22%3A%20-3.65%7D%2C%20%22type%22%3A%20%22Feature%22%7D%2C%20%7B%22geometry%22%3A%20%7B%22coordinates%22%3A%20%5B%5B%5B-3.575%2C%2040.265%5D%2C%20%5B-3.575%2C%2040.315%5D%2C%20%5B-3.625%2C%2040.315%5D%2C%20%5B-3.625%2C%2040.265%5D%2C%20%5B-3.575%2C%2040.265%5D%5D%5D%2C%20%22type%22%3A%20%22Polygon%22%7D%2C%20%22id%22%3A%20%224%22%2C%20%22properties%22%3A%20%7B%22date%22%3A%202016%2C%20%22golbal_irradiance%22%3A%201650151.7300000095%2C%20%22id%22%3A%205%2C%20%22latitude%22%3A%2040.29%2C%20%22longitude%22%3A%20-3.6%7D%2C%20%22type%22%3A%20%22Feature%22%7D%2C%20%7B%22geometry%22%3A%20%7B%22coordinates%22%3A%20%5B%5B%5B-3.525%2C%2040.265%5D%2C%20%5B-3.525%2C%2040.315%5D%2C%20%5B-3.5749999999999997%2C%2040.315%5D%2C%20%5B-3.5749999999999997%2C%2040.265%5D%2C%20%5B-3.525%2C%2040.265%5D%5D%5D%2C%20%22type%22%3A%20%22Polygon%22%7D%2C%20%22id%22%3A%20%225%22%2C%20%22properties%22%3A%20%7B%22date%22%3A%202016%2C%20%22golbal_irradiance%22%3A%201626665.0700000082%2C%20%22id%22%3A%206%2C%20%22latitude%22%3A%2040.29%2C%20%22longitude%22%3A%20-3.55%7D%2C%20%22type%22%3A%20%22Feature%22%7D%2C%20%7B%22geometry%22%3A%20%7B%22coordinates%22%3A%20%5B%5B%5B-3.775%2C%2040.315000000000005%5D%2C%20%5B-3.775%2C%2040.365%5D%2C%20%5B-3.8249999999999997%2C%2040.365%5D%2C%20%5B-3.8249999999999997%2C%2040.315000000000005%5D%2C%20%5B-3.775%2C%2040.315000000000005%5D%5D%5D%2C%20%22type%22%3A%20%22Polygon%22%7D%2C%20%22id%22%3A%20%226%22%2C%20%22properties%22%3A%20%7B%22date%22%3A%202016%2C%20%22golbal_irradiance%22%3A%201665131.3100000084%2C%20%22id%22%3A%207%2C%20%22latitude%22%3A%2040.34%2C%20%22longitude%22%3A%20-3.8%7D%2C%20%22type%22%3A%20%22Feature%22%7D%2C%20%7B%22geometry%22%3A%20%7B%22coordinates%22%3A%20%5B%5B%5B-3.725%2C%2040.315000000000005%5D%2C%20%5B-3.725%2C%2040.365%5D%2C%20%5B-3.775%2C%2040.365%5D%2C%20%5B-3.775%2C%2040.315000000000005%5D%2C%20%5B-3.725%2C%2040.315000000000005%5D%5D%5D%2C%20%22type%22%3A%20%22Polygon%22%7D%2C%20%22id%22%3A%20%227%22%2C%20%22properties%22%3A%20%7B%22date%22%3A%202016%2C%20%22golbal_irradiance%22%3A%201665118.770000008%2C%20%22id%22%3A%208%2C%20%22latitude%22%3A%2040.34%2C%20%22longitude%22%3A%20-3.75%7D%2C%20%22type%22%3A%20%22Feature%22%7D%2C%20%7B%22geometry%22%3A%20%7B%22coordinates%22%3A%20%5B%5B%5B-3.6750000000000003%2C%2040.315000000000005%5D%2C%20%5B-3.6750000000000003%2C%2040.365%5D%2C%20%5B-3.725%2C%2040.365%5D%2C%20%5B-3.725%2C%2040.315000000000005%5D%2C%20%5B-3.6750000000000003%2C%2040.315000000000005%5D%5D%5D%2C%20%22type%22%3A%20%22Polygon%22%7D%2C%20%22id%22%3A%20%228%22%2C%20%22properties%22%3A%20%7B%22date%22%3A%202016%2C%20%22golbal_irradiance%22%3A%201665125.4100000092%2C%20%22id%22%3A%209%2C%20%22latitude%22%3A%2040.34%2C%20%22longitude%22%3A%20-3.7%7D%2C%20%22type%22%3A%20%22Feature%22%7D%2C%20%7B%22geometry%22%3A%20%7B%22coordinates%22%3A%20%5B%5B%5B-3.625%2C%2040.315000000000005%5D%2C%20%5B-3.625%2C%2040.365%5D%2C%20%5B-3.675%2C%2040.365%5D%2C%20%5B-3.675%2C%2040.315000000000005%5D%2C%20%5B-3.625%2C%2040.315000000000005%5D%5D%5D%2C%20%22type%22%3A%20%22Polygon%22%7D%2C%20%22id%22%3A%20%229%22%2C%20%22properties%22%3A%20%7B%22date%22%3A%202016%2C%20%22golbal_irradiance%22%3A%201655838.9600000076%2C%20%22id%22%3A%2010%2C%20%22latitude%22%3A%2040.34%2C%20%22longitude%22%3A%20-3.65%7D%2C%20%22type%22%3A%20%22Feature%22%7D%2C%20%7B%22geometry%22%3A%20%7B%22coordinates%22%3A%20%5B%5B%5B-3.575%2C%2040.315000000000005%5D%2C%20%5B-3.575%2C%2040.365%5D%2C%20%5B-3.625%2C%2040.365%5D%2C%20%5B-3.625%2C%2040.315000000000005%5D%2C%20%5B-3.575%2C%2040.315000000000005%5D%5D%5D%2C%20%22type%22%3A%20%22Polygon%22%7D%2C%20%22id%22%3A%20%2210%22%2C%20%22properties%22%3A%20%7B%22date%22%3A%202016%2C%20%22golbal_irradiance%22%3A%201650460.0800000087%2C%20%22id%22%3A%2011%2C%20%22latitude%22%3A%2040.34%2C%20%22longitude%22%3A%20-3.6%7D%2C%20%22type%22%3A%20%22Feature%22%7D%2C%20%7B%22geometry%22%3A%20%7B%22coordinates%22%3A%20%5B%5B%5B-3.525%2C%2040.315000000000005%5D%2C%20%5B-3.525%2C%2040.365%5D%2C%20%5B-3.5749999999999997%2C%2040.365%5D%2C%20%5B-3.5749999999999997%2C%2040.315000000000005%5D%2C%20%5B-3.525%2C%2040.315000000000005%5D%5D%5D%2C%20%22type%22%3A%20%22Polygon%22%7D%2C%20%22id%22%3A%20%2211%22%2C%20%22properties%22%3A%20%7B%22date%22%3A%202016%2C%20%22golbal_irradiance%22%3A%201650453.9200000083%2C%20%22id%22%3A%2012%2C%20%22latitude%22%3A%2040.34%2C%20%22longitude%22%3A%20-3.55%7D%2C%20%22type%22%3A%20%22Feature%22%7D%2C%20%7B%22geometry%22%3A%20%7B%22coordinates%22%3A%20%5B%5B%5B-3.775%2C%2040.365%5D%2C%20%5B-3.775%2C%2040.415%5D%2C%20%5B-3.8249999999999997%2C%2040.415%5D%2C%20%5B-3.8249999999999997%2C%2040.365%5D%2C%20%5B-3.775%2C%2040.365%5D%5D%5D%2C%20%22type%22%3A%20%22Polygon%22%7D%2C%20%22id%22%3A%20%2212%22%2C%20%22properties%22%3A%20%7B%22date%22%3A%202016%2C%20%22golbal_irradiance%22%3A%201684802.2800000107%2C%20%22id%22%3A%2013%2C%20%22latitude%22%3A%2040.39%2C%20%22longitude%22%3A%20-3.8%7D%2C%20%22type%22%3A%20%22Feature%22%7D%2C%20%7B%22geometry%22%3A%20%7B%22coordinates%22%3A%20%5B%5B%5B-3.725%2C%2040.365%5D%2C%20%5B-3.725%2C%2040.415%5D%2C%20%5B-3.775%2C%2040.415%5D%2C%20%5B-3.775%2C%2040.365%5D%2C%20%5B-3.725%2C%2040.365%5D%5D%5D%2C%20%22type%22%3A%20%22Polygon%22%7D%2C%20%22id%22%3A%20%2213%22%2C%20%22properties%22%3A%20%7B%22date%22%3A%202016%2C%20%22golbal_irradiance%22%3A%201684071.6600000092%2C%20%22id%22%3A%2014%2C%20%22latitude%22%3A%2040.39%2C%20%22longitude%22%3A%20-3.75%7D%2C%20%22type%22%3A%20%22Feature%22%7D%2C%20%7B%22geometry%22%3A%20%7B%22coordinates%22%3A%20%5B%5B%5B-3.6750000000000003%2C%2040.365%5D%2C%20%5B-3.6750000000000003%2C%2040.415%5D%2C%20%5B-3.725%2C%2040.415%5D%2C%20%5B-3.725%2C%2040.365%5D%2C%20%5B-3.6750000000000003%2C%2040.365%5D%5D%5D%2C%20%22type%22%3A%20%22Polygon%22%7D%2C%20%22id%22%3A%20%2214%22%2C%20%22properties%22%3A%20%7B%22date%22%3A%202016%2C%20%22golbal_irradiance%22%3A%201684358.7200000102%2C%20%22id%22%3A%2015%2C%20%22latitude%22%3A%2040.39%2C%20%22longitude%22%3A%20-3.7%7D%2C%20%22type%22%3A%20%22Feature%22%7D%2C%20%7B%22geometry%22%3A%20%7B%22coordinates%22%3A%20%5B%5B%5B-3.625%2C%2040.365%5D%2C%20%5B-3.625%2C%2040.415%5D%2C%20%5B-3.675%2C%2040.415%5D%2C%20%5B-3.675%2C%2040.365%5D%2C%20%5B-3.625%2C%2040.365%5D%5D%5D%2C%20%22type%22%3A%20%22Polygon%22%7D%2C%20%22id%22%3A%20%2215%22%2C%20%22properties%22%3A%20%7B%22date%22%3A%202016%2C%20%22golbal_irradiance%22%3A%201686839.9500000104%2C%20%22id%22%3A%2016%2C%20%22latitude%22%3A%2040.39%2C%20%22longitude%22%3A%20-3.65%7D%2C%20%22type%22%3A%20%22Feature%22%7D%2C%20%7B%22geometry%22%3A%20%7B%22coordinates%22%3A%20%5B%5B%5B-3.575%2C%2040.365%5D%2C%20%5B-3.575%2C%2040.415%5D%2C%20%5B-3.625%2C%2040.415%5D%2C%20%5B-3.625%2C%2040.365%5D%2C%20%5B-3.575%2C%2040.365%5D%5D%5D%2C%20%22type%22%3A%20%22Polygon%22%7D%2C%20%22id%22%3A%20%2216%22%2C%20%22properties%22%3A%20%7B%22date%22%3A%202016%2C%20%22golbal_irradiance%22%3A%201685304.3600000099%2C%20%22id%22%3A%2017%2C%20%22latitude%22%3A%2040.39%2C%20%22longitude%22%3A%20-3.6%7D%2C%20%22type%22%3A%20%22Feature%22%7D%2C%20%7B%22geometry%22%3A%20%7B%22coordinates%22%3A%20%5B%5B%5B-3.525%2C%2040.365%5D%2C%20%5B-3.525%2C%2040.415%5D%2C%20%5B-3.5749999999999997%2C%2040.415%5D%2C%20%5B-3.5749999999999997%2C%2040.365%5D%2C%20%5B-3.525%2C%2040.365%5D%5D%5D%2C%20%22type%22%3A%20%22Polygon%22%7D%2C%20%22id%22%3A%20%2217%22%2C%20%22properties%22%3A%20%7B%22date%22%3A%202016%2C%20%22golbal_irradiance%22%3A%201687862.04000001%2C%20%22id%22%3A%2018%2C%20%22latitude%22%3A%2040.39%2C%20%22longitude%22%3A%20-3.55%7D%2C%20%22type%22%3A%20%22Feature%22%7D%2C%20%7B%22geometry%22%3A%20%7B%22coordinates%22%3A%20%5B%5B%5B-3.775%2C%2040.415%5D%2C%20%5B-3.775%2C%2040.464999999999996%5D%2C%20%5B-3.8249999999999997%2C%2040.464999999999996%5D%2C%20%5B-3.8249999999999997%2C%2040.415%5D%2C%20%5B-3.775%2C%2040.415%5D%5D%5D%2C%20%22type%22%3A%20%22Polygon%22%7D%2C%20%22id%22%3A%20%2218%22%2C%20%22properties%22%3A%20%7B%22date%22%3A%202016%2C%20%22golbal_irradiance%22%3A%201684764.30000001%2C%20%22id%22%3A%2019%2C%20%22latitude%22%3A%2040.44%2C%20%22longitude%22%3A%20-3.8%7D%2C%20%22type%22%3A%20%22Feature%22%7D%2C%20%7B%22geometry%22%3A%20%7B%22coordinates%22%3A%20%5B%5B%5B-3.725%2C%2040.415%5D%2C%20%5B-3.725%2C%2040.464999999999996%5D%2C%20%5B-3.775%2C%2040.464999999999996%5D%2C%20%5B-3.775%2C%2040.415%5D%2C%20%5B-3.725%2C%2040.415%5D%5D%5D%2C%20%22type%22%3A%20%22Polygon%22%7D%2C%20%22id%22%3A%20%2219%22%2C%20%22properties%22%3A%20%7B%22date%22%3A%202016%2C%20%22golbal_irradiance%22%3A%201684567.9700000107%2C%20%22id%22%3A%2020%2C%20%22latitude%22%3A%2040.44%2C%20%22longitude%22%3A%20-3.75%7D%2C%20%22type%22%3A%20%22Feature%22%7D%2C%20%7B%22geometry%22%3A%20%7B%22coordinates%22%3A%20%5B%5B%5B-3.6750000000000003%2C%2040.415%5D%2C%20%5B-3.6750000000000003%2C%2040.464999999999996%5D%2C%20%5B-3.725%2C%2040.464999999999996%5D%2C%20%5B-3.725%2C%2040.415%5D%2C%20%5B-3.6750000000000003%2C%2040.415%5D%5D%5D%2C%20%22type%22%3A%20%22Polygon%22%7D%2C%20%22id%22%3A%20%2220%22%2C%20%22properties%22%3A%20%7B%22date%22%3A%202016%2C%20%22golbal_irradiance%22%3A%201684759.0500000098%2C%20%22id%22%3A%2021%2C%20%22latitude%22%3A%2040.44%2C%20%22longitude%22%3A%20-3.7%7D%2C%20%22type%22%3A%20%22Feature%22%7D%2C%20%7B%22geometry%22%3A%20%7B%22coordinates%22%3A%20%5B%5B%5B-3.625%2C%2040.415%5D%2C%20%5B-3.625%2C%2040.464999999999996%5D%2C%20%5B-3.675%2C%2040.464999999999996%5D%2C%20%5B-3.675%2C%2040.415%5D%2C%20%5B-3.625%2C%2040.415%5D%5D%5D%2C%20%22type%22%3A%20%22Polygon%22%7D%2C%20%22id%22%3A%20%2221%22%2C%20%22properties%22%3A%20%7B%22date%22%3A%202016%2C%20%22golbal_irradiance%22%3A%201686817.7800000103%2C%20%22id%22%3A%2022%2C%20%22latitude%22%3A%2040.44%2C%20%22longitude%22%3A%20-3.65%7D%2C%20%22type%22%3A%20%22Feature%22%7D%2C%20%7B%22geometry%22%3A%20%7B%22coordinates%22%3A%20%5B%5B%5B-3.575%2C%2040.415%5D%2C%20%5B-3.575%2C%2040.464999999999996%5D%2C%20%5B-3.625%2C%2040.464999999999996%5D%2C%20%5B-3.625%2C%2040.415%5D%2C%20%5B-3.575%2C%2040.415%5D%5D%5D%2C%20%22type%22%3A%20%22Polygon%22%7D%2C%20%22id%22%3A%20%2222%22%2C%20%22properties%22%3A%20%7B%22date%22%3A%202016%2C%20%22golbal_irradiance%22%3A%201687809.8500000096%2C%20%22id%22%3A%2023%2C%20%22latitude%22%3A%2040.44%2C%20%22longitude%22%3A%20-3.6%7D%2C%20%22type%22%3A%20%22Feature%22%7D%2C%20%7B%22geometry%22%3A%20%7B%22coordinates%22%3A%20%5B%5B%5B-3.525%2C%2040.415%5D%2C%20%5B-3.525%2C%2040.464999999999996%5D%2C%20%5B-3.5749999999999997%2C%2040.464999999999996%5D%2C%20%5B-3.5749999999999997%2C%2040.415%5D%2C%20%5B-3.525%2C%2040.415%5D%5D%5D%2C%20%22type%22%3A%20%22Polygon%22%7D%2C%20%22id%22%3A%20%2223%22%2C%20%22properties%22%3A%20%7B%22date%22%3A%202016%2C%20%22golbal_irradiance%22%3A%201687803.6500000083%2C%20%22id%22%3A%2024%2C%20%22latitude%22%3A%2040.44%2C%20%22longitude%22%3A%20-3.55%7D%2C%20%22type%22%3A%20%22Feature%22%7D%2C%20%7B%22geometry%22%3A%20%7B%22coordinates%22%3A%20%5B%5B%5B-3.775%2C%2040.465%5D%2C%20%5B-3.775%2C%2040.515%5D%2C%20%5B-3.8249999999999997%2C%2040.515%5D%2C%20%5B-3.8249999999999997%2C%2040.465%5D%2C%20%5B-3.775%2C%2040.465%5D%5D%5D%2C%20%22type%22%3A%20%22Polygon%22%7D%2C%20%22id%22%3A%20%2224%22%2C%20%22properties%22%3A%20%7B%22date%22%3A%202016%2C%20%22golbal_irradiance%22%3A%201676044.260000009%2C%20%22id%22%3A%2025%2C%20%22latitude%22%3A%2040.49%2C%20%22longitude%22%3A%20-3.8%7D%2C%20%22type%22%3A%20%22Feature%22%7D%2C%20%7B%22geometry%22%3A%20%7B%22coordinates%22%3A%20%5B%5B%5B-3.725%2C%2040.465%5D%2C%20%5B-3.725%2C%2040.515%5D%2C%20%5B-3.775%2C%2040.515%5D%2C%20%5B-3.775%2C%2040.465%5D%2C%20%5B-3.725%2C%2040.465%5D%5D%5D%2C%20%22type%22%3A%20%22Polygon%22%7D%2C%20%22id%22%3A%20%2225%22%2C%20%22properties%22%3A%20%7B%22date%22%3A%202016%2C%20%22golbal_irradiance%22%3A%201675661.0800000099%2C%20%22id%22%3A%2026%2C%20%22latitude%22%3A%2040.49%2C%20%22longitude%22%3A%20-3.75%7D%2C%20%22type%22%3A%20%22Feature%22%7D%2C%20%7B%22geometry%22%3A%20%7B%22coordinates%22%3A%20%5B%5B%5B-3.6750000000000003%2C%2040.465%5D%2C%20%5B-3.6750000000000003%2C%2040.515%5D%2C%20%5B-3.725%2C%2040.515%5D%2C%20%5B-3.725%2C%2040.465%5D%2C%20%5B-3.6750000000000003%2C%2040.465%5D%5D%5D%2C%20%22type%22%3A%20%22Polygon%22%7D%2C%20%22id%22%3A%20%2226%22%2C%20%22properties%22%3A%20%7B%22date%22%3A%202016%2C%20%22golbal_irradiance%22%3A%201675633.16000001%2C%20%22id%22%3A%2027%2C%20%22latitude%22%3A%2040.49%2C%20%22longitude%22%3A%20-3.7%7D%2C%20%22type%22%3A%20%22Feature%22%7D%2C%20%7B%22geometry%22%3A%20%7B%22coordinates%22%3A%20%5B%5B%5B-3.625%2C%2040.465%5D%2C%20%5B-3.625%2C%2040.515%5D%2C%20%5B-3.675%2C%2040.515%5D%2C%20%5B-3.675%2C%2040.465%5D%2C%20%5B-3.625%2C%2040.465%5D%5D%5D%2C%20%22type%22%3A%20%22Polygon%22%7D%2C%20%22id%22%3A%20%2227%22%2C%20%22properties%22%3A%20%7B%22date%22%3A%202016%2C%20%22golbal_irradiance%22%3A%201686762.5000000098%2C%20%22id%22%3A%2028%2C%20%22latitude%22%3A%2040.49%2C%20%22longitude%22%3A%20-3.65%7D%2C%20%22type%22%3A%20%22Feature%22%7D%2C%20%7B%22geometry%22%3A%20%7B%22coordinates%22%3A%20%5B%5B%5B-3.575%2C%2040.465%5D%2C%20%5B-3.575%2C%2040.515%5D%2C%20%5B-3.625%2C%2040.515%5D%2C%20%5B-3.625%2C%2040.465%5D%2C%20%5B-3.575%2C%2040.465%5D%5D%5D%2C%20%22type%22%3A%20%22Polygon%22%7D%2C%20%22id%22%3A%20%2228%22%2C%20%22properties%22%3A%20%7B%22date%22%3A%202016%2C%20%22golbal_irradiance%22%3A%201691437.6900000102%2C%20%22id%22%3A%2029%2C%20%22latitude%22%3A%2040.49%2C%20%22longitude%22%3A%20-3.6%7D%2C%20%22type%22%3A%20%22Feature%22%7D%2C%20%7B%22geometry%22%3A%20%7B%22coordinates%22%3A%20%5B%5B%5B-3.525%2C%2040.465%5D%2C%20%5B-3.525%2C%2040.515%5D%2C%20%5B-3.5749999999999997%2C%2040.515%5D%2C%20%5B-3.5749999999999997%2C%2040.465%5D%2C%20%5B-3.525%2C%2040.465%5D%5D%5D%2C%20%22type%22%3A%20%22Polygon%22%7D%2C%20%22id%22%3A%20%2229%22%2C%20%22properties%22%3A%20%7B%22date%22%3A%202016%2C%20%22golbal_irradiance%22%3A%201691344.8100000098%2C%20%22id%22%3A%2030%2C%20%22latitude%22%3A%2040.49%2C%20%22longitude%22%3A%20-3.55%7D%2C%20%22type%22%3A%20%22Feature%22%7D%2C%20%7B%22geometry%22%3A%20%7B%22coordinates%22%3A%20%5B%5B%5B-3.775%2C%2040.515%5D%2C%20%5B-3.775%2C%2040.565%5D%2C%20%5B-3.8249999999999997%2C%2040.565%5D%2C%20%5B-3.8249999999999997%2C%2040.515%5D%2C%20%5B-3.775%2C%2040.515%5D%5D%5D%2C%20%22type%22%3A%20%22Polygon%22%7D%2C%20%22id%22%3A%20%2230%22%2C%20%22properties%22%3A%20%7B%22date%22%3A%202016%2C%20%22golbal_irradiance%22%3A%201675867.4500000093%2C%20%22id%22%3A%2031%2C%20%22latitude%22%3A%2040.54%2C%20%22longitude%22%3A%20-3.8%7D%2C%20%22type%22%3A%20%22Feature%22%7D%2C%20%7B%22geometry%22%3A%20%7B%22coordinates%22%3A%20%5B%5B%5B-3.725%2C%2040.515%5D%2C%20%5B-3.725%2C%2040.565%5D%2C%20%5B-3.775%2C%2040.565%5D%2C%20%5B-3.775%2C%2040.515%5D%2C%20%5B-3.725%2C%2040.515%5D%5D%5D%2C%20%22type%22%3A%20%22Polygon%22%7D%2C%20%22id%22%3A%20%2231%22%2C%20%22properties%22%3A%20%7B%22date%22%3A%202016%2C%20%22golbal_irradiance%22%3A%201675592.5200000098%2C%20%22id%22%3A%2032%2C%20%22latitude%22%3A%2040.54%2C%20%22longitude%22%3A%20-3.75%7D%2C%20%22type%22%3A%20%22Feature%22%7D%2C%20%7B%22geometry%22%3A%20%7B%22coordinates%22%3A%20%5B%5B%5B-3.6750000000000003%2C%2040.515%5D%2C%20%5B-3.6750000000000003%2C%2040.565%5D%2C%20%5B-3.725%2C%2040.565%5D%2C%20%5B-3.725%2C%2040.515%5D%2C%20%5B-3.6750000000000003%2C%2040.515%5D%5D%5D%2C%20%22type%22%3A%20%22Polygon%22%7D%2C%20%22id%22%3A%20%2232%22%2C%20%22properties%22%3A%20%7B%22date%22%3A%202016%2C%20%22golbal_irradiance%22%3A%201675990.34000001%2C%20%22id%22%3A%2033%2C%20%22latitude%22%3A%2040.54%2C%20%22longitude%22%3A%20-3.7%7D%2C%20%22type%22%3A%20%22Feature%22%7D%2C%20%7B%22geometry%22%3A%20%7B%22coordinates%22%3A%20%5B%5B%5B-3.625%2C%2040.515%5D%2C%20%5B-3.625%2C%2040.565%5D%2C%20%5B-3.675%2C%2040.565%5D%2C%20%5B-3.675%2C%2040.515%5D%2C%20%5B-3.625%2C%2040.515%5D%5D%5D%2C%20%22type%22%3A%20%22Polygon%22%7D%2C%20%22id%22%3A%20%2233%22%2C%20%22properties%22%3A%20%7B%22date%22%3A%202016%2C%20%22golbal_irradiance%22%3A%201687241.200000009%2C%20%22id%22%3A%2034%2C%20%22latitude%22%3A%2040.54%2C%20%22longitude%22%3A%20-3.65%7D%2C%20%22type%22%3A%20%22Feature%22%7D%2C%20%7B%22geometry%22%3A%20%7B%22coordinates%22%3A%20%5B%5B%5B-3.575%2C%2040.515%5D%2C%20%5B-3.575%2C%2040.565%5D%2C%20%5B-3.625%2C%2040.565%5D%2C%20%5B-3.625%2C%2040.515%5D%2C%20%5B-3.575%2C%2040.515%5D%5D%5D%2C%20%22type%22%3A%20%22Polygon%22%7D%2C%20%22id%22%3A%20%2234%22%2C%20%22properties%22%3A%20%7B%22date%22%3A%202016%2C%20%22golbal_irradiance%22%3A%201691366.490000009%2C%20%22id%22%3A%2035%2C%20%22latitude%22%3A%2040.54%2C%20%22longitude%22%3A%20-3.6%7D%2C%20%22type%22%3A%20%22Feature%22%7D%2C%20%7B%22geometry%22%3A%20%7B%22coordinates%22%3A%20%5B%5B%5B-3.525%2C%2040.515%5D%2C%20%5B-3.525%2C%2040.565%5D%2C%20%5B-3.5749999999999997%2C%2040.565%5D%2C%20%5B-3.5749999999999997%2C%2040.515%5D%2C%20%5B-3.525%2C%2040.515%5D%5D%5D%2C%20%22type%22%3A%20%22Polygon%22%7D%2C%20%22id%22%3A%20%2235%22%2C%20%22properties%22%3A%20%7B%22date%22%3A%202016%2C%20%22golbal_irradiance%22%3A%201691084.9200000104%2C%20%22id%22%3A%2036%2C%20%22latitude%22%3A%2040.54%2C%20%22longitude%22%3A%20-3.55%7D%2C%20%22type%22%3A%20%22Feature%22%7D%2C%20%7B%22geometry%22%3A%20%7B%22coordinates%22%3A%20%5B%5B%5B-3.775%2C%2040.565000000000005%5D%2C%20%5B-3.775%2C%2040.615%5D%2C%20%5B-3.8249999999999997%2C%2040.615%5D%2C%20%5B-3.8249999999999997%2C%2040.565000000000005%5D%2C%20%5B-3.775%2C%2040.565000000000005%5D%5D%5D%2C%20%22type%22%3A%20%22Polygon%22%7D%2C%20%22id%22%3A%20%2236%22%2C%20%22properties%22%3A%20%7B%22date%22%3A%202016%2C%20%22golbal_irradiance%22%3A%201684490.7800000098%2C%20%22id%22%3A%2037%2C%20%22latitude%22%3A%2040.59%2C%20%22longitude%22%3A%20-3.8%7D%2C%20%22type%22%3A%20%22Feature%22%7D%2C%20%7B%22geometry%22%3A%20%7B%22coordinates%22%3A%20%5B%5B%5B-3.725%2C%2040.565000000000005%5D%2C%20%5B-3.725%2C%2040.615%5D%2C%20%5B-3.775%2C%2040.615%5D%2C%20%5B-3.775%2C%2040.565000000000005%5D%2C%20%5B-3.725%2C%2040.565000000000005%5D%5D%5D%2C%20%22type%22%3A%20%22Polygon%22%7D%2C%20%22id%22%3A%20%2237%22%2C%20%22properties%22%3A%20%7B%22date%22%3A%202016%2C%20%22golbal_irradiance%22%3A%201684481.230000008%2C%20%22id%22%3A%2038%2C%20%22latitude%22%3A%2040.59%2C%20%22longitude%22%3A%20-3.75%7D%2C%20%22type%22%3A%20%22Feature%22%7D%2C%20%7B%22geometry%22%3A%20%7B%22coordinates%22%3A%20%5B%5B%5B-3.6750000000000003%2C%2040.565000000000005%5D%2C%20%5B-3.6750000000000003%2C%2040.615%5D%2C%20%5B-3.725%2C%2040.615%5D%2C%20%5B-3.725%2C%2040.565000000000005%5D%2C%20%5B-3.6750000000000003%2C%2040.565000000000005%5D%5D%5D%2C%20%22type%22%3A%20%22Polygon%22%7D%2C%20%22id%22%3A%20%2238%22%2C%20%22properties%22%3A%20%7B%22date%22%3A%202016%2C%20%22golbal_irradiance%22%3A%201684514.3500000092%2C%20%22id%22%3A%2039%2C%20%22latitude%22%3A%2040.59%2C%20%22longitude%22%3A%20-3.7%7D%2C%20%22type%22%3A%20%22Feature%22%7D%2C%20%7B%22geometry%22%3A%20%7B%22coordinates%22%3A%20%5B%5B%5B-3.625%2C%2040.565000000000005%5D%2C%20%5B-3.625%2C%2040.615%5D%2C%20%5B-3.675%2C%2040.615%5D%2C%20%5B-3.675%2C%2040.565000000000005%5D%2C%20%5B-3.625%2C%2040.565000000000005%5D%5D%5D%2C%20%22type%22%3A%20%22Polygon%22%7D%2C%20%22id%22%3A%20%2239%22%2C%20%22properties%22%3A%20%7B%22date%22%3A%202016%2C%20%22golbal_irradiance%22%3A%201698180.7100000102%2C%20%22id%22%3A%2040%2C%20%22latitude%22%3A%2040.59%2C%20%22longitude%22%3A%20-3.65%7D%2C%20%22type%22%3A%20%22Feature%22%7D%2C%20%7B%22geometry%22%3A%20%7B%22coordinates%22%3A%20%5B%5B%5B-3.575%2C%2040.565000000000005%5D%2C%20%5B-3.575%2C%2040.615%5D%2C%20%5B-3.625%2C%2040.615%5D%2C%20%5B-3.625%2C%2040.565000000000005%5D%2C%20%5B-3.575%2C%2040.565000000000005%5D%5D%5D%2C%20%22type%22%3A%20%22Polygon%22%7D%2C%20%22id%22%3A%20%2240%22%2C%20%22properties%22%3A%20%7B%22date%22%3A%202016%2C%20%22golbal_irradiance%22%3A%201700646.6200000106%2C%20%22id%22%3A%2041%2C%20%22latitude%22%3A%2040.59%2C%20%22longitude%22%3A%20-3.6%7D%2C%20%22type%22%3A%20%22Feature%22%7D%2C%20%7B%22geometry%22%3A%20%7B%22coordinates%22%3A%20%5B%5B%5B-3.525%2C%2040.565000000000005%5D%2C%20%5B-3.525%2C%2040.615%5D%2C%20%5B-3.5749999999999997%2C%2040.615%5D%2C%20%5B-3.5749999999999997%2C%2040.565000000000005%5D%2C%20%5B-3.525%2C%2040.565000000000005%5D%5D%5D%2C%20%22type%22%3A%20%22Polygon%22%7D%2C%20%22id%22%3A%20%2241%22%2C%20%22properties%22%3A%20%7B%22date%22%3A%202016%2C%20%22golbal_irradiance%22%3A%201700645.0800000106%2C%20%22id%22%3A%2042%2C%20%22latitude%22%3A%2040.59%2C%20%22longitude%22%3A%20-3.55%7D%2C%20%22type%22%3A%20%22Feature%22%7D%5D%2C%20%22type%22%3A%20%22FeatureCollection%22%7D%29%3B%0A%0A%20%20%20%20%20%20%20%20%0A%20%20%20%20%0A%20%20%20%20var%20color_map_dca27ba3d6bc45969c9df2df66553659%20%3D%20%7B%7D%3B%0A%0A%20%20%20%20%0A%20%20%20%20color_map_dca27ba3d6bc45969c9df2df66553659.color%20%3D%20d3.scale.threshold%28%29%0A%20%20%20%20%20%20%20%20%20%20%20%20%20%20.domain%28%5B1626665.0700000082%2C%201626813.3296192468%2C%201626961.589238485%2C%201627109.8488577236%2C%201627258.1084769622%2C%201627406.3680962005%2C%201627554.627715439%2C%201627702.8873346776%2C%201627851.1469539162%2C%201627999.4065731545%2C%201628147.666192393%2C%201628295.9258116316%2C%201628444.18543087%2C%201628592.4450501085%2C%201628740.704669347%2C%201628888.9642885854%2C%201629037.223907824%2C%201629185.4835270625%2C%201629333.7431463008%2C%201629482.0027655393%2C%201629630.262384778%2C%201629778.5220040164%2C%201629926.7816232548%2C%201630075.0412424933%2C%201630223.3008617319%2C%201630371.5604809702%2C%201630519.8201002087%2C%201630668.0797194473%2C%201630816.3393386856%2C%201630964.5989579242%2C%201631112.8585771627%2C%201631261.118196401%2C%201631409.3778156396%2C%201631557.6374348782%2C%201631705.8970541167%2C%201631854.156673355%2C%201632002.4162925936%2C%201632150.6759118321%2C%201632298.9355310705%2C%201632447.195150309%2C%201632595.4547695476%2C%201632743.714388786%2C%201632891.9740080244%2C%201633040.233627263%2C%201633188.4932465013%2C%201633336.7528657399%2C%201633485.0124849784%2C%201633633.2721042167%2C%201633781.5317234553%2C%201633929.7913426938%2C%201634078.0509619324%2C%201634226.3105811707%2C%201634374.5702004093%2C%201634522.8298196478%2C%201634671.0894388861%2C%201634819.3490581247%2C%201634967.6086773633%2C%201635115.8682966016%2C%201635264.1279158401%2C%201635412.3875350787%2C%201635560.647154317%2C%201635708.9067735556%2C%201635857.166392794%2C%201636005.4260120327%2C%201636153.685631271%2C%201636301.9452505095%2C%201636450.204869748%2C%201636598.4644889864%2C%201636746.724108225%2C%201636894.9837274635%2C%201637043.2433467018%2C%201637191.5029659404%2C%201637339.762585179%2C%201637488.0222044173%2C%201637636.2818236558%2C%201637784.5414428944%2C%201637932.801062133%2C%201638081.0606813713%2C%201638229.3203006098%2C%201638377.5799198484%2C%201638525.8395390867%2C%201638674.0991583252%2C%201638822.3587775638%2C%201638970.618396802%2C%201639118.8780160407%2C%201639267.1376352792%2C%201639415.3972545175%2C%201639563.656873756%2C%201639711.9164929946%2C%201639860.1761122332%2C%201640008.4357314715%2C%201640156.69535071%2C%201640304.9549699486%2C%201640453.214589187%2C%201640601.4742084255%2C%201640749.733827664%2C%201640897.9934469024%2C%201641046.253066141%2C%201641194.5126853795%2C%201641342.7723046178%2C%201641491.0319238564%2C%201641639.291543095%2C%201641787.5511623335%2C%201641935.8107815718%2C%201642084.0704008103%2C%201642232.330020049%2C%201642380.5896392872%2C%201642528.8492585258%2C%201642677.1088777643%2C%201642825.3684970026%2C%201642973.6281162412%2C%201643121.8877354797%2C%201643270.147354718%2C%201643418.4069739566%2C%201643566.6665931952%2C%201643714.9262124337%2C%201643863.185831672%2C%201644011.4454509106%2C%201644159.7050701492%2C%201644307.9646893875%2C%201644456.224308626%2C%201644604.4839278646%2C%201644752.743547103%2C%201644901.0031663415%2C%201645049.26278558%2C%201645197.5224048183%2C%201645345.7820240569%2C%201645494.0416432954%2C%201645642.3012625338%2C%201645790.5608817723%2C%201645938.8205010109%2C%201646087.0801202494%2C%201646235.3397394877%2C%201646383.5993587263%2C%201646531.8589779648%2C%201646680.1185972032%2C%201646828.3782164417%2C%201646976.6378356803%2C%201647124.8974549186%2C%201647273.1570741571%2C%201647421.4166933957%2C%201647569.676312634%2C%201647717.9359318726%2C%201647866.1955511111%2C%201648014.4551703497%2C%201648162.714789588%2C%201648310.9744088266%2C%201648459.234028065%2C%201648607.4936473034%2C%201648755.753266542%2C%201648904.0128857805%2C%201649052.2725050189%2C%201649200.5321242574%2C%201649348.791743496%2C%201649497.0513627343%2C%201649645.3109819728%2C%201649793.5706012114%2C%201649941.83022045%2C%201650090.0898396883%2C%201650238.3494589268%2C%201650386.6090781654%2C%201650534.8686974037%2C%201650683.1283166423%2C%201650831.3879358808%2C%201650979.6475551191%2C%201651127.9071743577%2C%201651276.1667935962%2C%201651424.4264128346%2C%201651572.686032073%2C%201651720.9456513117%2C%201651869.2052705502%2C%201652017.4648897885%2C%201652165.724509027%2C%201652313.9841282656%2C%201652462.243747504%2C%201652610.5033667425%2C%201652758.762985981%2C%201652907.0226052194%2C%201653055.282224458%2C%201653203.5418436965%2C%201653351.8014629348%2C%201653500.0610821734%2C%201653648.320701412%2C%201653796.5803206505%2C%201653944.8399398888%2C%201654093.0995591274%2C%201654241.359178366%2C%201654389.6187976042%2C%201654537.8784168428%2C%201654686.1380360813%2C%201654834.3976553197%2C%201654982.6572745582%2C%201655130.9168937968%2C%201655279.176513035%2C%201655427.4361322736%2C%201655575.6957515122%2C%201655723.9553707507%2C%201655872.214989989%2C%201656020.4746092276%2C%201656168.7342284662%2C%201656316.9938477045%2C%201656465.253466943%2C%201656613.5130861816%2C%201656761.77270542%2C%201656910.0323246585%2C%201657058.291943897%2C%201657206.5515631353%2C%201657354.811182374%2C%201657503.0708016125%2C%201657651.3304208508%2C%201657799.5900400893%2C%201657947.8496593279%2C%201658096.1092785664%2C%201658244.3688978048%2C%201658392.6285170433%2C%201658540.8881362819%2C%201658689.1477555202%2C%201658837.4073747587%2C%201658985.6669939973%2C%201659133.9266132356%2C%201659282.1862324742%2C%201659430.4458517127%2C%201659578.705470951%2C%201659726.9650901896%2C%201659875.2247094281%2C%201660023.4843286667%2C%201660171.743947905%2C%201660320.0035671436%2C%201660468.2631863821%2C%201660616.5228056205%2C%201660764.782424859%2C%201660913.0420440976%2C%201661061.3016633359%2C%201661209.5612825744%2C%201661357.820901813%2C%201661506.0805210513%2C%201661654.3401402899%2C%201661802.5997595284%2C%201661950.859378767%2C%201662099.1189980053%2C%201662247.3786172438%2C%201662395.6382364824%2C%201662543.8978557207%2C%201662692.1574749593%2C%201662840.4170941978%2C%201662988.6767134361%2C%201663136.9363326747%2C%201663285.1959519133%2C%201663433.4555711516%2C%201663581.7151903901%2C%201663729.9748096287%2C%201663878.2344288672%2C%201664026.4940481056%2C%201664174.753667344%2C%201664323.0132865827%2C%201664471.272905821%2C%201664619.5325250595%2C%201664767.792144298%2C%201664916.0517635364%2C%201665064.311382775%2C%201665212.5710020135%2C%201665360.8306212518%2C%201665509.0902404904%2C%201665657.349859729%2C%201665805.6094789675%2C%201665953.8690982058%2C%201666102.1287174444%2C%201666250.388336683%2C%201666398.6479559212%2C%201666546.9075751598%2C%201666695.1671943984%2C%201666843.4268136367%2C%201666991.6864328752%2C%201667139.9460521138%2C%201667288.205671352%2C%201667436.4652905907%2C%201667584.7249098292%2C%201667732.9845290678%2C%201667881.244148306%2C%201668029.5037675446%2C%201668177.7633867832%2C%201668326.0230060215%2C%201668474.28262526%2C%201668622.5422444986%2C%201668770.801863737%2C%201668919.0614829755%2C%201669067.321102214%2C%201669215.5807214524%2C%201669363.840340691%2C%201669512.0999599295%2C%201669660.3595791678%2C%201669808.6191984063%2C%201669956.878817645%2C%201670105.1384368835%2C%201670253.3980561218%2C%201670401.6576753603%2C%201670549.9172945989%2C%201670698.1769138372%2C%201670846.4365330758%2C%201670994.6961523143%2C%201671142.9557715526%2C%201671291.2153907912%2C%201671439.4750100297%2C%201671587.7346292683%2C%201671735.9942485066%2C%201671884.2538677452%2C%201672032.5134869837%2C%201672180.773106222%2C%201672329.0327254606%2C%201672477.2923446991%2C%201672625.5519639375%2C%201672773.811583176%2C%201672922.0712024146%2C%201673070.330821653%2C%201673218.5904408915%2C%201673366.85006013%2C%201673515.1096793683%2C%201673663.3692986069%2C%201673811.6289178454%2C%201673959.888537084%2C%201674108.1481563223%2C%201674256.4077755609%2C%201674404.6673947994%2C%201674552.9270140377%2C%201674701.1866332763%2C%201674849.4462525148%2C%201674997.7058717532%2C%201675145.9654909917%2C%201675294.2251102303%2C%201675442.4847294686%2C%201675590.7443487071%2C%201675739.0039679457%2C%201675887.2635871843%2C%201676035.5232064226%2C%201676183.7828256611%2C%201676332.0424448997%2C%201676480.302064138%2C%201676628.5616833766%2C%201676776.821302615%2C%201676925.0809218534%2C%201677073.340541092%2C%201677221.6001603305%2C%201677369.8597795689%2C%201677518.1193988074%2C%201677666.379018046%2C%201677814.6386372845%2C%201677962.8982565228%2C%201678111.1578757614%2C%201678259.417495%2C%201678407.6771142383%2C%201678555.9367334768%2C%201678704.1963527154%2C%201678852.4559719537%2C%201679000.7155911922%2C%201679148.9752104308%2C%201679297.2348296691%2C%201679445.4944489077%2C%201679593.7540681462%2C%201679742.0136873848%2C%201679890.273306623%2C%201680038.5329258617%2C%201680186.7925451002%2C%201680335.0521643385%2C%201680483.311783577%2C%201680631.5714028156%2C%201680779.831022054%2C%201680928.0906412925%2C%201681076.350260531%2C%201681224.6098797694%2C%201681372.869499008%2C%201681521.1291182465%2C%201681669.3887374848%2C%201681817.6483567234%2C%201681965.907975962%2C%201682114.1675952005%2C%201682262.4272144388%2C%201682410.6868336773%2C%201682558.946452916%2C%201682707.2060721542%2C%201682855.4656913928%2C%201683003.7253106313%2C%201683151.9849298696%2C%201683300.2445491082%2C%201683448.5041683468%2C%201683596.7637875853%2C%201683745.0234068236%2C%201683893.2830260622%2C%201684041.5426453007%2C%201684189.802264539%2C%201684338.0618837776%2C%201684486.3215030162%2C%201684634.5811222545%2C%201684782.840741493%2C%201684931.1003607316%2C%201685079.35997997%2C%201685227.6195992085%2C%201685375.879218447%2C%201685524.1388376853%2C%201685672.398456924%2C%201685820.6580761625%2C%201685968.917695401%2C%201686117.1773146393%2C%201686265.4369338779%2C%201686413.6965531164%2C%201686561.9561723548%2C%201686710.2157915933%2C%201686858.4754108319%2C%201687006.7350300702%2C%201687154.9946493087%2C%201687303.2542685473%2C%201687451.5138877856%2C%201687599.7735070242%2C%201687748.0331262627%2C%201687896.2927455013%2C%201688044.5523647396%2C%201688192.8119839781%2C%201688341.0716032167%2C%201688489.331222455%2C%201688637.5908416936%2C%201688785.8504609321%2C%201688934.1100801704%2C%201689082.369699409%2C%201689230.6293186476%2C%201689378.8889378859%2C%201689527.1485571244%2C%201689675.408176363%2C%201689823.6677956015%2C%201689971.9274148399%2C%201690120.1870340784%2C%201690268.446653317%2C%201690416.7062725553%2C%201690564.9658917938%2C%201690713.2255110324%2C%201690861.4851302707%2C%201691009.7447495093%2C%201691158.0043687478%2C%201691306.2639879861%2C%201691454.5236072247%2C%201691602.7832264632%2C%201691751.0428457018%2C%201691899.3024649401%2C%201692047.5620841787%2C%201692195.8217034172%2C%201692344.0813226555%2C%201692492.340941894%2C%201692640.6005611327%2C%201692788.860180371%2C%201692937.1197996095%2C%201693085.379418848%2C%201693233.6390380864%2C%201693381.898657325%2C%201693530.1582765635%2C%201693678.4178958018%2C%201693826.6775150404%2C%201693974.937134279%2C%201694123.1967535175%2C%201694271.4563727558%2C%201694419.7159919944%2C%201694567.975611233%2C%201694716.2352304712%2C%201694864.4948497098%2C%201695012.7544689483%2C%201695161.0140881867%2C%201695309.2737074252%2C%201695457.5333266638%2C%201695605.7929459023%2C%201695754.0525651406%2C%201695902.3121843792%2C%201696050.5718036178%2C%201696198.831422856%2C%201696347.0910420946%2C%201696495.3506613332%2C%201696643.6102805715%2C%201696791.86989981%2C%201696940.1295190486%2C%201697088.389138287%2C%201697236.6487575255%2C%201697384.908376764%2C%201697533.1679960024%2C%201697681.427615241%2C%201697829.6872344795%2C%201697977.946853718%2C%201698126.2064729563%2C%201698274.466092195%2C%201698422.7257114334%2C%201698570.9853306718%2C%201698719.2449499103%2C%201698867.5045691489%2C%201699015.7641883872%2C%201699164.0238076258%2C%201699312.2834268643%2C%201699460.5430461029%2C%201699608.8026653412%2C%201699757.0622845797%2C%201699905.3219038183%2C%201700053.5815230566%2C%201700201.8411422952%2C%201700350.1007615337%2C%201700498.360380772%2C%201700646.6200000106%5D%29%0A%20%20%20%20%20%20%20%20%20%20%20%20%20%20.range%28%5B%27%23fef0d9ff%27%2C%20%27%23fef0d9ff%27%2C%20%27%23fef0d9ff%27%2C%20%27%23fef0d9ff%27%2C%20%27%23fef0d9ff%27%2C%20%27%23fef0d9ff%27%2C%20%27%23fef0d9ff%27%2C%20%27%23fef0d9ff%27%2C%20%27%23fef0d9ff%27%2C%20%27%23fef0d9ff%27%2C%20%27%23fef0d9ff%27%2C%20%27%23fef0d9ff%27%2C%20%27%23fef0d9ff%27%2C%20%27%23fef0d9ff%27%2C%20%27%23fef0d9ff%27%2C%20%27%23fef0d9ff%27%2C%20%27%23fef0d9ff%27%2C%20%27%23fef0d9ff%27%2C%20%27%23fef0d9ff%27%2C%20%27%23fef0d9ff%27%2C%20%27%23fef0d9ff%27%2C%20%27%23fef0d9ff%27%2C%20%27%23fef0d9ff%27%2C%20%27%23fef0d9ff%27%2C%20%27%23fef0d9ff%27%2C%20%27%23fef0d9ff%27%2C%20%27%23fef0d9ff%27%2C%20%27%23fef0d9ff%27%2C%20%27%23fef0d9ff%27%2C%20%27%23fef0d9ff%27%2C%20%27%23fef0d9ff%27%2C%20%27%23fef0d9ff%27%2C%20%27%23fef0d9ff%27%2C%20%27%23fef0d9ff%27%2C%20%27%23fef0d9ff%27%2C%20%27%23fef0d9ff%27%2C%20%27%23fef0d9ff%27%2C%20%27%23fef0d9ff%27%2C%20%27%23fef0d9ff%27%2C%20%27%23fef0d9ff%27%2C%20%27%23fef0d9ff%27%2C%20%27%23fef0d9ff%27%2C%20%27%23fef0d9ff%27%2C%20%27%23fef0d9ff%27%2C%20%27%23fef0d9ff%27%2C%20%27%23fef0d9ff%27%2C%20%27%23fef0d9ff%27%2C%20%27%23fef0d9ff%27%2C%20%27%23fef0d9ff%27%2C%20%27%23fef0d9ff%27%2C%20%27%23fef0d9ff%27%2C%20%27%23fef0d9ff%27%2C%20%27%23fef0d9ff%27%2C%20%27%23fef0d9ff%27%2C%20%27%23fef0d9ff%27%2C%20%27%23fef0d9ff%27%2C%20%27%23fef0d9ff%27%2C%20%27%23fef0d9ff%27%2C%20%27%23fef0d9ff%27%2C%20%27%23fef0d9ff%27%2C%20%27%23fef0d9ff%27%2C%20%27%23fef0d9ff%27%2C%20%27%23fef0d9ff%27%2C%20%27%23fef0d9ff%27%2C%20%27%23fef0d9ff%27%2C%20%27%23fef0d9ff%27%2C%20%27%23fef0d9ff%27%2C%20%27%23fef0d9ff%27%2C%20%27%23fef0d9ff%27%2C%20%27%23fef0d9ff%27%2C%20%27%23fef0d9ff%27%2C%20%27%23fef0d9ff%27%2C%20%27%23fef0d9ff%27%2C%20%27%23fef0d9ff%27%2C%20%27%23fef0d9ff%27%2C%20%27%23fef0d9ff%27%2C%20%27%23fef0d9ff%27%2C%20%27%23fef0d9ff%27%2C%20%27%23fef0d9ff%27%2C%20%27%23fef0d9ff%27%2C%20%27%23fef0d9ff%27%2C%20%27%23fef0d9ff%27%2C%20%27%23fef0d9ff%27%2C%20%27%23fef0d9ff%27%2C%20%27%23fdd49eff%27%2C%20%27%23fdd49eff%27%2C%20%27%23fdd49eff%27%2C%20%27%23fdd49eff%27%2C%20%27%23fdd49eff%27%2C%20%27%23fdd49eff%27%2C%20%27%23fdd49eff%27%2C%20%27%23fdd49eff%27%2C%20%27%23fdd49eff%27%2C%20%27%23fdd49eff%27%2C%20%27%23fdd49eff%27%2C%20%27%23fdd49eff%27%2C%20%27%23fdd49eff%27%2C%20%27%23fdd49eff%27%2C%20%27%23fdd49eff%27%2C%20%27%23fdd49eff%27%2C%20%27%23fdd49eff%27%2C%20%27%23fdd49eff%27%2C%20%27%23fdd49eff%27%2C%20%27%23fdd49eff%27%2C%20%27%23fdd49eff%27%2C%20%27%23fdd49eff%27%2C%20%27%23fdd49eff%27%2C%20%27%23fdd49eff%27%2C%20%27%23fdd49eff%27%2C%20%27%23fdd49eff%27%2C%20%27%23fdd49eff%27%2C%20%27%23fdd49eff%27%2C%20%27%23fdd49eff%27%2C%20%27%23fdd49eff%27%2C%20%27%23fdd49eff%27%2C%20%27%23fdd49eff%27%2C%20%27%23fdd49eff%27%2C%20%27%23fdd49eff%27%2C%20%27%23fdd49eff%27%2C%20%27%23fdd49eff%27%2C%20%27%23fdd49eff%27%2C%20%27%23fdd49eff%27%2C%20%27%23fdd49eff%27%2C%20%27%23fdd49eff%27%2C%20%27%23fdd49eff%27%2C%20%27%23fdd49eff%27%2C%20%27%23fdd49eff%27%2C%20%27%23fdd49eff%27%2C%20%27%23fdd49eff%27%2C%20%27%23fdd49eff%27%2C%20%27%23fdd49eff%27%2C%20%27%23fdd49eff%27%2C%20%27%23fdd49eff%27%2C%20%27%23fdd49eff%27%2C%20%27%23fdd49eff%27%2C%20%27%23fdd49eff%27%2C%20%27%23fdd49eff%27%2C%20%27%23fdd49eff%27%2C%20%27%23fdd49eff%27%2C%20%27%23fdd49eff%27%2C%20%27%23fdd49eff%27%2C%20%27%23fdd49eff%27%2C%20%27%23fdd49eff%27%2C%20%27%23fdd49eff%27%2C%20%27%23fdd49eff%27%2C%20%27%23fdd49eff%27%2C%20%27%23fdd49eff%27%2C%20%27%23fdd49eff%27%2C%20%27%23fdd49eff%27%2C%20%27%23fdd49eff%27%2C%20%27%23fdd49eff%27%2C%20%27%23fdd49eff%27%2C%20%27%23fdd49eff%27%2C%20%27%23fdd49eff%27%2C%20%27%23fdd49eff%27%2C%20%27%23fdd49eff%27%2C%20%27%23fdd49eff%27%2C%20%27%23fdd49eff%27%2C%20%27%23fdd49eff%27%2C%20%27%23fdd49eff%27%2C%20%27%23fdd49eff%27%2C%20%27%23fdd49eff%27%2C%20%27%23fdd49eff%27%2C%20%27%23fdd49eff%27%2C%20%27%23fdd49eff%27%2C%20%27%23fdd49eff%27%2C%20%27%23fdd49eff%27%2C%20%27%23fdbb84ff%27%2C%20%27%23fdbb84ff%27%2C%20%27%23fdbb84ff%27%2C%20%27%23fdbb84ff%27%2C%20%27%23fdbb84ff%27%2C%20%27%23fdbb84ff%27%2C%20%27%23fdbb84ff%27%2C%20%27%23fdbb84ff%27%2C%20%27%23fdbb84ff%27%2C%20%27%23fdbb84ff%27%2C%20%27%23fdbb84ff%27%2C%20%27%23fdbb84ff%27%2C%20%27%23fdbb84ff%27%2C%20%27%23fdbb84ff%27%2C%20%27%23fdbb84ff%27%2C%20%27%23fdbb84ff%27%2C%20%27%23fdbb84ff%27%2C%20%27%23fdbb84ff%27%2C%20%27%23fdbb84ff%27%2C%20%27%23fdbb84ff%27%2C%20%27%23fdbb84ff%27%2C%20%27%23fdbb84ff%27%2C%20%27%23fdbb84ff%27%2C%20%27%23fdbb84ff%27%2C%20%27%23fdbb84ff%27%2C%20%27%23fdbb84ff%27%2C%20%27%23fdbb84ff%27%2C%20%27%23fdbb84ff%27%2C%20%27%23fdbb84ff%27%2C%20%27%23fdbb84ff%27%2C%20%27%23fdbb84ff%27%2C%20%27%23fdbb84ff%27%2C%20%27%23fdbb84ff%27%2C%20%27%23fdbb84ff%27%2C%20%27%23fdbb84ff%27%2C%20%27%23fdbb84ff%27%2C%20%27%23fdbb84ff%27%2C%20%27%23fdbb84ff%27%2C%20%27%23fdbb84ff%27%2C%20%27%23fdbb84ff%27%2C%20%27%23fdbb84ff%27%2C%20%27%23fdbb84ff%27%2C%20%27%23fdbb84ff%27%2C%20%27%23fdbb84ff%27%2C%20%27%23fdbb84ff%27%2C%20%27%23fdbb84ff%27%2C%20%27%23fdbb84ff%27%2C%20%27%23fdbb84ff%27%2C%20%27%23fdbb84ff%27%2C%20%27%23fdbb84ff%27%2C%20%27%23fdbb84ff%27%2C%20%27%23fdbb84ff%27%2C%20%27%23fdbb84ff%27%2C%20%27%23fdbb84ff%27%2C%20%27%23fdbb84ff%27%2C%20%27%23fdbb84ff%27%2C%20%27%23fdbb84ff%27%2C%20%27%23fdbb84ff%27%2C%20%27%23fdbb84ff%27%2C%20%27%23fdbb84ff%27%2C%20%27%23fdbb84ff%27%2C%20%27%23fdbb84ff%27%2C%20%27%23fdbb84ff%27%2C%20%27%23fdbb84ff%27%2C%20%27%23fdbb84ff%27%2C%20%27%23fdbb84ff%27%2C%20%27%23fdbb84ff%27%2C%20%27%23fdbb84ff%27%2C%20%27%23fdbb84ff%27%2C%20%27%23fdbb84ff%27%2C%20%27%23fdbb84ff%27%2C%20%27%23fdbb84ff%27%2C%20%27%23fdbb84ff%27%2C%20%27%23fdbb84ff%27%2C%20%27%23fdbb84ff%27%2C%20%27%23fdbb84ff%27%2C%20%27%23fdbb84ff%27%2C%20%27%23fdbb84ff%27%2C%20%27%23fdbb84ff%27%2C%20%27%23fdbb84ff%27%2C%20%27%23fdbb84ff%27%2C%20%27%23fdbb84ff%27%2C%20%27%23fdbb84ff%27%2C%20%27%23fc8d59ff%27%2C%20%27%23fc8d59ff%27%2C%20%27%23fc8d59ff%27%2C%20%27%23fc8d59ff%27%2C%20%27%23fc8d59ff%27%2C%20%27%23fc8d59ff%27%2C%20%27%23fc8d59ff%27%2C%20%27%23fc8d59ff%27%2C%20%27%23fc8d59ff%27%2C%20%27%23fc8d59ff%27%2C%20%27%23fc8d59ff%27%2C%20%27%23fc8d59ff%27%2C%20%27%23fc8d59ff%27%2C%20%27%23fc8d59ff%27%2C%20%27%23fc8d59ff%27%2C%20%27%23fc8d59ff%27%2C%20%27%23fc8d59ff%27%2C%20%27%23fc8d59ff%27%2C%20%27%23fc8d59ff%27%2C%20%27%23fc8d59ff%27%2C%20%27%23fc8d59ff%27%2C%20%27%23fc8d59ff%27%2C%20%27%23fc8d59ff%27%2C%20%27%23fc8d59ff%27%2C%20%27%23fc8d59ff%27%2C%20%27%23fc8d59ff%27%2C%20%27%23fc8d59ff%27%2C%20%27%23fc8d59ff%27%2C%20%27%23fc8d59ff%27%2C%20%27%23fc8d59ff%27%2C%20%27%23fc8d59ff%27%2C%20%27%23fc8d59ff%27%2C%20%27%23fc8d59ff%27%2C%20%27%23fc8d59ff%27%2C%20%27%23fc8d59ff%27%2C%20%27%23fc8d59ff%27%2C%20%27%23fc8d59ff%27%2C%20%27%23fc8d59ff%27%2C%20%27%23fc8d59ff%27%2C%20%27%23fc8d59ff%27%2C%20%27%23fc8d59ff%27%2C%20%27%23fc8d59ff%27%2C%20%27%23fc8d59ff%27%2C%20%27%23fc8d59ff%27%2C%20%27%23fc8d59ff%27%2C%20%27%23fc8d59ff%27%2C%20%27%23fc8d59ff%27%2C%20%27%23fc8d59ff%27%2C%20%27%23fc8d59ff%27%2C%20%27%23fc8d59ff%27%2C%20%27%23fc8d59ff%27%2C%20%27%23fc8d59ff%27%2C%20%27%23fc8d59ff%27%2C%20%27%23fc8d59ff%27%2C%20%27%23fc8d59ff%27%2C%20%27%23fc8d59ff%27%2C%20%27%23fc8d59ff%27%2C%20%27%23fc8d59ff%27%2C%20%27%23fc8d59ff%27%2C%20%27%23fc8d59ff%27%2C%20%27%23fc8d59ff%27%2C%20%27%23fc8d59ff%27%2C%20%27%23fc8d59ff%27%2C%20%27%23fc8d59ff%27%2C%20%27%23fc8d59ff%27%2C%20%27%23fc8d59ff%27%2C%20%27%23fc8d59ff%27%2C%20%27%23fc8d59ff%27%2C%20%27%23fc8d59ff%27%2C%20%27%23fc8d59ff%27%2C%20%27%23fc8d59ff%27%2C%20%27%23fc8d59ff%27%2C%20%27%23fc8d59ff%27%2C%20%27%23fc8d59ff%27%2C%20%27%23fc8d59ff%27%2C%20%27%23fc8d59ff%27%2C%20%27%23fc8d59ff%27%2C%20%27%23fc8d59ff%27%2C%20%27%23fc8d59ff%27%2C%20%27%23fc8d59ff%27%2C%20%27%23fc8d59ff%27%2C%20%27%23fc8d59ff%27%2C%20%27%23fc8d59ff%27%2C%20%27%23e34a33ff%27%2C%20%27%23e34a33ff%27%2C%20%27%23e34a33ff%27%2C%20%27%23e34a33ff%27%2C%20%27%23e34a33ff%27%2C%20%27%23e34a33ff%27%2C%20%27%23e34a33ff%27%2C%20%27%23e34a33ff%27%2C%20%27%23e34a33ff%27%2C%20%27%23e34a33ff%27%2C%20%27%23e34a33ff%27%2C%20%27%23e34a33ff%27%2C%20%27%23e34a33ff%27%2C%20%27%23e34a33ff%27%2C%20%27%23e34a33ff%27%2C%20%27%23e34a33ff%27%2C%20%27%23e34a33ff%27%2C%20%27%23e34a33ff%27%2C%20%27%23e34a33ff%27%2C%20%27%23e34a33ff%27%2C%20%27%23e34a33ff%27%2C%20%27%23e34a33ff%27%2C%20%27%23e34a33ff%27%2C%20%27%23e34a33ff%27%2C%20%27%23e34a33ff%27%2C%20%27%23e34a33ff%27%2C%20%27%23e34a33ff%27%2C%20%27%23e34a33ff%27%2C%20%27%23e34a33ff%27%2C%20%27%23e34a33ff%27%2C%20%27%23e34a33ff%27%2C%20%27%23e34a33ff%27%2C%20%27%23e34a33ff%27%2C%20%27%23e34a33ff%27%2C%20%27%23e34a33ff%27%2C%20%27%23e34a33ff%27%2C%20%27%23e34a33ff%27%2C%20%27%23e34a33ff%27%2C%20%27%23e34a33ff%27%2C%20%27%23e34a33ff%27%2C%20%27%23e34a33ff%27%2C%20%27%23e34a33ff%27%2C%20%27%23e34a33ff%27%2C%20%27%23e34a33ff%27%2C%20%27%23e34a33ff%27%2C%20%27%23e34a33ff%27%2C%20%27%23e34a33ff%27%2C%20%27%23e34a33ff%27%2C%20%27%23e34a33ff%27%2C%20%27%23e34a33ff%27%2C%20%27%23e34a33ff%27%2C%20%27%23e34a33ff%27%2C%20%27%23e34a33ff%27%2C%20%27%23e34a33ff%27%2C%20%27%23e34a33ff%27%2C%20%27%23e34a33ff%27%2C%20%27%23e34a33ff%27%2C%20%27%23e34a33ff%27%2C%20%27%23e34a33ff%27%2C%20%27%23e34a33ff%27%2C%20%27%23e34a33ff%27%2C%20%27%23e34a33ff%27%2C%20%27%23e34a33ff%27%2C%20%27%23e34a33ff%27%2C%20%27%23e34a33ff%27%2C%20%27%23e34a33ff%27%2C%20%27%23e34a33ff%27%2C%20%27%23e34a33ff%27%2C%20%27%23e34a33ff%27%2C%20%27%23e34a33ff%27%2C%20%27%23e34a33ff%27%2C%20%27%23e34a33ff%27%2C%20%27%23e34a33ff%27%2C%20%27%23e34a33ff%27%2C%20%27%23e34a33ff%27%2C%20%27%23e34a33ff%27%2C%20%27%23e34a33ff%27%2C%20%27%23e34a33ff%27%2C%20%27%23e34a33ff%27%2C%20%27%23e34a33ff%27%2C%20%27%23e34a33ff%27%2C%20%27%23e34a33ff%27%2C%20%27%23e34a33ff%27%2C%20%27%23b30000ff%27%2C%20%27%23b30000ff%27%2C%20%27%23b30000ff%27%2C%20%27%23b30000ff%27%2C%20%27%23b30000ff%27%2C%20%27%23b30000ff%27%2C%20%27%23b30000ff%27%2C%20%27%23b30000ff%27%2C%20%27%23b30000ff%27%2C%20%27%23b30000ff%27%2C%20%27%23b30000ff%27%2C%20%27%23b30000ff%27%2C%20%27%23b30000ff%27%2C%20%27%23b30000ff%27%2C%20%27%23b30000ff%27%2C%20%27%23b30000ff%27%2C%20%27%23b30000ff%27%2C%20%27%23b30000ff%27%2C%20%27%23b30000ff%27%2C%20%27%23b30000ff%27%2C%20%27%23b30000ff%27%2C%20%27%23b30000ff%27%2C%20%27%23b30000ff%27%2C%20%27%23b30000ff%27%2C%20%27%23b30000ff%27%2C%20%27%23b30000ff%27%2C%20%27%23b30000ff%27%2C%20%27%23b30000ff%27%2C%20%27%23b30000ff%27%2C%20%27%23b30000ff%27%2C%20%27%23b30000ff%27%2C%20%27%23b30000ff%27%2C%20%27%23b30000ff%27%2C%20%27%23b30000ff%27%2C%20%27%23b30000ff%27%2C%20%27%23b30000ff%27%2C%20%27%23b30000ff%27%2C%20%27%23b30000ff%27%2C%20%27%23b30000ff%27%2C%20%27%23b30000ff%27%2C%20%27%23b30000ff%27%2C%20%27%23b30000ff%27%2C%20%27%23b30000ff%27%2C%20%27%23b30000ff%27%2C%20%27%23b30000ff%27%2C%20%27%23b30000ff%27%2C%20%27%23b30000ff%27%2C%20%27%23b30000ff%27%2C%20%27%23b30000ff%27%2C%20%27%23b30000ff%27%2C%20%27%23b30000ff%27%2C%20%27%23b30000ff%27%2C%20%27%23b30000ff%27%2C%20%27%23b30000ff%27%2C%20%27%23b30000ff%27%2C%20%27%23b30000ff%27%2C%20%27%23b30000ff%27%2C%20%27%23b30000ff%27%2C%20%27%23b30000ff%27%2C%20%27%23b30000ff%27%2C%20%27%23b30000ff%27%2C%20%27%23b30000ff%27%2C%20%27%23b30000ff%27%2C%20%27%23b30000ff%27%2C%20%27%23b30000ff%27%2C%20%27%23b30000ff%27%2C%20%27%23b30000ff%27%2C%20%27%23b30000ff%27%2C%20%27%23b30000ff%27%2C%20%27%23b30000ff%27%2C%20%27%23b30000ff%27%2C%20%27%23b30000ff%27%2C%20%27%23b30000ff%27%2C%20%27%23b30000ff%27%2C%20%27%23b30000ff%27%2C%20%27%23b30000ff%27%2C%20%27%23b30000ff%27%2C%20%27%23b30000ff%27%2C%20%27%23b30000ff%27%2C%20%27%23b30000ff%27%2C%20%27%23b30000ff%27%2C%20%27%23b30000ff%27%2C%20%27%23b30000ff%27%2C%20%27%23b30000ff%27%5D%29%3B%0A%20%20%20%20%0A%0A%20%20%20%20color_map_dca27ba3d6bc45969c9df2df66553659.x%20%3D%20d3.scale.linear%28%29%0A%20%20%20%20%20%20%20%20%20%20%20%20%20%20.domain%28%5B1626665.0700000082%2C%201700646.6200000106%5D%29%0A%20%20%20%20%20%20%20%20%20%20%20%20%20%20.range%28%5B0%2C%20400%5D%29%3B%0A%0A%20%20%20%20color_map_dca27ba3d6bc45969c9df2df66553659.legend%20%3D%20L.control%28%7Bposition%3A%20%27topright%27%7D%29%3B%0A%20%20%20%20color_map_dca27ba3d6bc45969c9df2df66553659.legend.onAdd%20%3D%20function%20%28map%29%20%7Bvar%20div%20%3D%20L.DomUtil.create%28%27div%27%2C%20%27legend%27%29%3B%20return%20div%7D%3B%0A%20%20%20%20color_map_dca27ba3d6bc45969c9df2df66553659.legend.addTo%28map_6dfc4d87618642539b2b39e715f59688%29%3B%0A%0A%20%20%20%20color_map_dca27ba3d6bc45969c9df2df66553659.xAxis%20%3D%20d3.svg.axis%28%29%0A%20%20%20%20%20%20%20%20.scale%28color_map_dca27ba3d6bc45969c9df2df66553659.x%29%0A%20%20%20%20%20%20%20%20.orient%28%22top%22%29%0A%20%20%20%20%20%20%20%20.tickSize%281%29%0A%20%20%20%20%20%20%20%20.tickValues%28%5B1626665.0700000082%2C%201638995.328333342%2C%201651325.5866666758%2C%201663655.8450000095%2C%201675986.103333343%2C%201688316.3616666768%2C%201700646.6200000106%5D%29%3B%0A%0A%20%20%20%20color_map_dca27ba3d6bc45969c9df2df66553659.svg%20%3D%20d3.select%28%22.legend.leaflet-control%22%29.append%28%22svg%22%29%0A%20%20%20%20%20%20%20%20.attr%28%22id%22%2C%20%27legend%27%29%0A%20%20%20%20%20%20%20%20.attr%28%22width%22%2C%20450%29%0A%20%20%20%20%20%20%20%20.attr%28%22height%22%2C%2040%29%3B%0A%0A%20%20%20%20color_map_dca27ba3d6bc45969c9df2df66553659.g%20%3D%20color_map_dca27ba3d6bc45969c9df2df66553659.svg.append%28%22g%22%29%0A%20%20%20%20%20%20%20%20.attr%28%22class%22%2C%20%22key%22%29%0A%20%20%20%20%20%20%20%20.attr%28%22transform%22%2C%20%22translate%2825%2C16%29%22%29%3B%0A%0A%20%20%20%20color_map_dca27ba3d6bc45969c9df2df66553659.g.selectAll%28%22rect%22%29%0A%20%20%20%20%20%20%20%20.data%28color_map_dca27ba3d6bc45969c9df2df66553659.color.range%28%29.map%28function%28d%2C%20i%29%20%7B%0A%20%20%20%20%20%20%20%20%20%20return%20%7B%0A%20%20%20%20%20%20%20%20%20%20%20%20x0%3A%20i%20%3F%20color_map_dca27ba3d6bc45969c9df2df66553659.x%28color_map_dca27ba3d6bc45969c9df2df66553659.color.domain%28%29%5Bi%20-%201%5D%29%20%3A%20color_map_dca27ba3d6bc45969c9df2df66553659.x.range%28%29%5B0%5D%2C%0A%20%20%20%20%20%20%20%20%20%20%20%20x1%3A%20i%20%3C%20color_map_dca27ba3d6bc45969c9df2df66553659.color.domain%28%29.length%20%3F%20color_map_dca27ba3d6bc45969c9df2df66553659.x%28color_map_dca27ba3d6bc45969c9df2df66553659.color.domain%28%29%5Bi%5D%29%20%3A%20color_map_dca27ba3d6bc45969c9df2df66553659.x.range%28%29%5B1%5D%2C%0A%20%20%20%20%20%20%20%20%20%20%20%20z%3A%20d%0A%20%20%20%20%20%20%20%20%20%20%7D%3B%0A%20%20%20%20%20%20%20%20%7D%29%29%0A%20%20%20%20%20%20.enter%28%29.append%28%22rect%22%29%0A%20%20%20%20%20%20%20%20.attr%28%22height%22%2C%2010%29%0A%20%20%20%20%20%20%20%20.attr%28%22x%22%2C%20function%28d%29%20%7B%20return%20d.x0%3B%20%7D%29%0A%20%20%20%20%20%20%20%20.attr%28%22width%22%2C%20function%28d%29%20%7B%20return%20d.x1%20-%20d.x0%3B%20%7D%29%0A%20%20%20%20%20%20%20%20.style%28%22fill%22%2C%20function%28d%29%20%7B%20return%20d.z%3B%20%7D%29%3B%0A%0A%20%20%20%20color_map_dca27ba3d6bc45969c9df2df66553659.g.call%28color_map_dca27ba3d6bc45969c9df2df66553659.xAxis%29.append%28%22text%22%29%0A%20%20%20%20%20%20%20%20.attr%28%22class%22%2C%20%22caption%22%29%0A%20%20%20%20%20%20%20%20.attr%28%22y%22%2C%2021%29%0A%20%20%20%20%20%20%20%20.text%28%27Global%20Irradiance%20%28W/m2%29%27%29%3B%0A%20%20%20%20%0A%20%20%20%20%20%20%20%20%20%20%20%20var%20layer_control_e467c511916e4699b212039f1bb4d85a%20%3D%20%7B%0A%20%20%20%20%20%20%20%20%20%20%20%20%20%20%20%20base_layers%20%3A%20%7B%0A%20%20%20%20%20%20%20%20%20%20%20%20%20%20%20%20%20%20%20%20%22cartodbpositron%22%20%3A%20tile_layer_cf0214944a4d48e1a5142781f852e8e7%2C%0A%20%20%20%20%20%20%20%20%20%20%20%20%20%20%20%20%7D%2C%0A%20%20%20%20%20%20%20%20%20%20%20%20%20%20%20%20overlays%20%3A%20%20%7B%0A%20%20%20%20%20%20%20%20%20%20%20%20%20%20%20%20%20%20%20%20%22choropleth%22%20%3A%20choropleth_f95a5d7f07cb44489603d2d5d6a4d088%2C%0A%20%20%20%20%20%20%20%20%20%20%20%20%20%20%20%20%7D%2C%0A%20%20%20%20%20%20%20%20%20%20%20%20%7D%3B%0A%20%20%20%20%20%20%20%20%20%20%20%20L.control.layers%28%0A%20%20%20%20%20%20%20%20%20%20%20%20%20%20%20%20layer_control_e467c511916e4699b212039f1bb4d85a.base_layers%2C%0A%20%20%20%20%20%20%20%20%20%20%20%20%20%20%20%20layer_control_e467c511916e4699b212039f1bb4d85a.overlays%2C%0A%20%20%20%20%20%20%20%20%20%20%20%20%20%20%20%20%7B%22autoZIndex%22%3A%20true%2C%20%22collapsed%22%3A%20true%2C%20%22position%22%3A%20%22topright%22%7D%0A%20%20%20%20%20%20%20%20%20%20%20%20%29.addTo%28map_6dfc4d87618642539b2b39e715f59688%29%3B%0A%20%20%20%20%20%20%20%20%0A%3C/script%3E onload=\"this.contentDocument.open();this.contentDocument.write(    decodeURIComponent(this.getAttribute('data-html')));this.contentDocument.close();\" allowfullscreen webkitallowfullscreen mozallowfullscreen></iframe></div></div>"
      ],
      "text/plain": [
       "<folium.folium.Map at 0x7ff9aab6df70>"
      ]
     },
     "execution_count": 11,
     "metadata": {},
     "output_type": "execute_result"
    }
   ],
   "source": [
    "# Create an ID\n",
    "grid_gi_2016[\"id\"] = grid_gi_2016.index + 1\n",
    "grid_gi_2016.head()\n",
    "\n",
    "# Set Geo Data\n",
    "grid_gi_2016_geo = grid_gi_2016.to_json() # geojson format\n",
    "\n",
    "# create a plain world map\n",
    "x0 = (xmin + xmax) / 2\n",
    "y0 = (ymin + ymax) / 2\n",
    "m = folium.Map(location=[y0, x0], zoom_start=10, tiles='CartoDB positron')\n",
    "\n",
    "# generate choropleth map \n",
    "folium.Choropleth(\n",
    "    geo_data=grid_gi_2016_geo,\n",
    "    name=\"choropleth\",\n",
    "    data=grid_gi_2016,\n",
    "    columns=[\"id\", \"golbal_irradiance\"],\n",
    "    key_on=\"feature.properties.id\",\n",
    "    fill_color=\"OrRd\",\n",
    "    fill_opacity=0.7,\n",
    "    line_opacity=0.2,\n",
    "    legend_name=\"Global Irradiance (W/m2)\",\n",
    ").add_to(m)\n",
    "\n",
    "folium.LayerControl().add_to(m)\n",
    "\n",
    "# display map\n",
    "m"
   ]
  },
  {
   "cell_type": "code",
   "execution_count": null,
   "metadata": {},
   "outputs": [],
   "source": []
  }
 ],
 "metadata": {
  "kernelspec": {
   "display_name": "Python 3",
   "language": "python",
   "name": "python3"
  },
  "language_info": {
   "codemirror_mode": {
    "name": "ipython",
    "version": 3
   },
   "file_extension": ".py",
   "mimetype": "text/x-python",
   "name": "python",
   "nbconvert_exporter": "python",
   "pygments_lexer": "ipython3",
   "version": "3.8.10"
  }
 },
 "nbformat": 4,
 "nbformat_minor": 4
}
